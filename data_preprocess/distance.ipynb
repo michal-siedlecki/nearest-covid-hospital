{
 "cells": [
  {
   "cell_type": "code",
   "execution_count": 1,
   "metadata": {},
   "outputs": [],
   "source": [
    "import pandas as pd\n",
    "from geopy.distance import great_circle"
   ]
  },
  {
   "cell_type": "code",
   "execution_count": 2,
   "metadata": {},
   "outputs": [],
   "source": [
    "hospitals = pd.read_csv('df_geo.csv')"
   ]
  },
  {
   "cell_type": "code",
   "execution_count": 3,
   "metadata": {
    "collapsed": true
   },
   "outputs": [
    {
     "data": {
      "text/html": [
       "<div>\n",
       "<style scoped>\n",
       "    .dataframe tbody tr th:only-of-type {\n",
       "        vertical-align: middle;\n",
       "    }\n",
       "\n",
       "    .dataframe tbody tr th {\n",
       "        vertical-align: top;\n",
       "    }\n",
       "\n",
       "    .dataframe thead th {\n",
       "        text-align: right;\n",
       "    }\n",
       "</style>\n",
       "<table border=\"1\" class=\"dataframe\">\n",
       "  <thead>\n",
       "    <tr style=\"text-align: right;\">\n",
       "      <th></th>\n",
       "      <th>Unnamed: 0</th>\n",
       "      <th>nazwa</th>\n",
       "      <th>adres</th>\n",
       "      <th>telefon</th>\n",
       "      <th>geo</th>\n",
       "    </tr>\n",
       "  </thead>\n",
       "  <tbody>\n",
       "    <tr>\n",
       "      <th>0</th>\n",
       "      <td>0</td>\n",
       "      <td>WIELOSPECJALISTYCZNY SZPITAL MIEJSKI IM. JÓZEF...</td>\n",
       "      <td>POZNAŃ 61-285, UL. SZWAJCARSKA 3</td>\n",
       "      <td>61 873 90 000</td>\n",
       "      <td>('52.3895197', '16.995482')</td>\n",
       "    </tr>\n",
       "    <tr>\n",
       "      <th>1</th>\n",
       "      <td>1</td>\n",
       "      <td>WOJEWÓDZKI SZPITAL ZESPOLONY IM. DR. ROMANA OS...</td>\n",
       "      <td>KONIN 62-504, UL. SZPITALNA 45</td>\n",
       "      <td>63 240 43 000</td>\n",
       "      <td>('52.1913128', '18.2331492')</td>\n",
       "    </tr>\n",
       "    <tr>\n",
       "      <th>2</th>\n",
       "      <td>2</td>\n",
       "      <td>WOJEWÓDZKI SZPITAL ZESPOLONY IM.LUDWIKA PERZYN...</td>\n",
       "      <td>KALISZ 62-800, UL. POZNAŃSKA 79</td>\n",
       "      <td>62 765 13 56</td>\n",
       "      <td>('51.76522785', '18.0663836371474')</td>\n",
       "    </tr>\n",
       "    <tr>\n",
       "      <th>3</th>\n",
       "      <td>3</td>\n",
       "      <td>SZPITAL POWIATOWY IM. ROMANA DREWSA W CHODZIEŻY</td>\n",
       "      <td>ŻEROMSKIEGO 29 64-800 CHODZIEŻ</td>\n",
       "      <td>67 282 92 21</td>\n",
       "      <td>('52.9880523', '16.9157074')</td>\n",
       "    </tr>\n",
       "    <tr>\n",
       "      <th>4</th>\n",
       "      <td>4</td>\n",
       "      <td>SAMODZIELNY PUBLICZNY ZAKŁAD OPIEKI ZDROWOTNEJ...</td>\n",
       "      <td>PODUCHOWNE 1 62-700 TUREK</td>\n",
       "      <td>63 280 55 08</td>\n",
       "      <td>('52.01025685', '18.4908246978452')</td>\n",
       "    </tr>\n",
       "  </tbody>\n",
       "</table>\n",
       "</div>"
      ],
      "text/plain": [
       "   Unnamed: 0                                              nazwa  \\\n",
       "0           0  WIELOSPECJALISTYCZNY SZPITAL MIEJSKI IM. JÓZEF...   \n",
       "1           1  WOJEWÓDZKI SZPITAL ZESPOLONY IM. DR. ROMANA OS...   \n",
       "2           2  WOJEWÓDZKI SZPITAL ZESPOLONY IM.LUDWIKA PERZYN...   \n",
       "3           3    SZPITAL POWIATOWY IM. ROMANA DREWSA W CHODZIEŻY   \n",
       "4           4  SAMODZIELNY PUBLICZNY ZAKŁAD OPIEKI ZDROWOTNEJ...   \n",
       "\n",
       "                              adres        telefon  \\\n",
       "0  POZNAŃ 61-285, UL. SZWAJCARSKA 3  61 873 90 000   \n",
       "1    KONIN 62-504, UL. SZPITALNA 45  63 240 43 000   \n",
       "2   KALISZ 62-800, UL. POZNAŃSKA 79   62 765 13 56   \n",
       "3    ŻEROMSKIEGO 29 64-800 CHODZIEŻ   67 282 92 21   \n",
       "4         PODUCHOWNE 1 62-700 TUREK   63 280 55 08   \n",
       "\n",
       "                                   geo  \n",
       "0          ('52.3895197', '16.995482')  \n",
       "1         ('52.1913128', '18.2331492')  \n",
       "2  ('51.76522785', '18.0663836371474')  \n",
       "3         ('52.9880523', '16.9157074')  \n",
       "4  ('52.01025685', '18.4908246978452')  "
      ]
     },
     "execution_count": 3,
     "metadata": {},
     "output_type": "execute_result"
    }
   ],
   "source": [
    "hospitals.head()"
   ]
  },
  {
   "cell_type": "code",
   "execution_count": 12,
   "metadata": {},
   "outputs": [],
   "source": [
    "def to_tuple(a):\n",
    "    if a == 'a':\n",
    "        return ('a','a')\n",
    "    return tuple([float(x.replace(',','').strip(\"'\")) for x in a.replace('(','').replace(')','').split()])"
   ]
  },
  {
   "cell_type": "code",
   "execution_count": 7,
   "metadata": {
    "scrolled": true
   },
   "outputs": [],
   "source": [
    "hospitals = hospitals.drop(columns=['Unnamed: 0'])"
   ]
  },
  {
   "cell_type": "code",
   "execution_count": 8,
   "metadata": {},
   "outputs": [
    {
     "data": {
      "text/html": [
       "<div>\n",
       "<style scoped>\n",
       "    .dataframe tbody tr th:only-of-type {\n",
       "        vertical-align: middle;\n",
       "    }\n",
       "\n",
       "    .dataframe tbody tr th {\n",
       "        vertical-align: top;\n",
       "    }\n",
       "\n",
       "    .dataframe thead th {\n",
       "        text-align: right;\n",
       "    }\n",
       "</style>\n",
       "<table border=\"1\" class=\"dataframe\">\n",
       "  <thead>\n",
       "    <tr style=\"text-align: right;\">\n",
       "      <th></th>\n",
       "      <th>nazwa</th>\n",
       "      <th>adres</th>\n",
       "      <th>telefon</th>\n",
       "      <th>geo</th>\n",
       "    </tr>\n",
       "  </thead>\n",
       "  <tbody>\n",
       "    <tr>\n",
       "      <th>0</th>\n",
       "      <td>WIELOSPECJALISTYCZNY SZPITAL MIEJSKI IM. JÓZEF...</td>\n",
       "      <td>POZNAŃ 61-285, UL. SZWAJCARSKA 3</td>\n",
       "      <td>61 873 90 000</td>\n",
       "      <td>('52.3895197', '16.995482')</td>\n",
       "    </tr>\n",
       "    <tr>\n",
       "      <th>1</th>\n",
       "      <td>WOJEWÓDZKI SZPITAL ZESPOLONY IM. DR. ROMANA OS...</td>\n",
       "      <td>KONIN 62-504, UL. SZPITALNA 45</td>\n",
       "      <td>63 240 43 000</td>\n",
       "      <td>('52.1913128', '18.2331492')</td>\n",
       "    </tr>\n",
       "    <tr>\n",
       "      <th>2</th>\n",
       "      <td>WOJEWÓDZKI SZPITAL ZESPOLONY IM.LUDWIKA PERZYN...</td>\n",
       "      <td>KALISZ 62-800, UL. POZNAŃSKA 79</td>\n",
       "      <td>62 765 13 56</td>\n",
       "      <td>('51.76522785', '18.0663836371474')</td>\n",
       "    </tr>\n",
       "  </tbody>\n",
       "</table>\n",
       "</div>"
      ],
      "text/plain": [
       "                                               nazwa  \\\n",
       "0  WIELOSPECJALISTYCZNY SZPITAL MIEJSKI IM. JÓZEF...   \n",
       "1  WOJEWÓDZKI SZPITAL ZESPOLONY IM. DR. ROMANA OS...   \n",
       "2  WOJEWÓDZKI SZPITAL ZESPOLONY IM.LUDWIKA PERZYN...   \n",
       "\n",
       "                              adres        telefon  \\\n",
       "0  POZNAŃ 61-285, UL. SZWAJCARSKA 3  61 873 90 000   \n",
       "1    KONIN 62-504, UL. SZPITALNA 45  63 240 43 000   \n",
       "2   KALISZ 62-800, UL. POZNAŃSKA 79   62 765 13 56   \n",
       "\n",
       "                                   geo  \n",
       "0          ('52.3895197', '16.995482')  \n",
       "1         ('52.1913128', '18.2331492')  \n",
       "2  ('51.76522785', '18.0663836371474')  "
      ]
     },
     "execution_count": 8,
     "metadata": {},
     "output_type": "execute_result"
    }
   ],
   "source": [
    "hospitals.head(3)"
   ]
  },
  {
   "cell_type": "code",
   "execution_count": 9,
   "metadata": {},
   "outputs": [],
   "source": [
    "hospitals['geo_lat'] = 0"
   ]
  },
  {
   "cell_type": "code",
   "execution_count": 10,
   "metadata": {},
   "outputs": [],
   "source": [
    "hospitals['geo_lon'] = 0"
   ]
  },
  {
   "cell_type": "code",
   "execution_count": 13,
   "metadata": {},
   "outputs": [],
   "source": [
    "hospitals.geo_lat = hospitals.geo.apply(lambda x: to_tuple(x)[0])"
   ]
  },
  {
   "cell_type": "code",
   "execution_count": 14,
   "metadata": {},
   "outputs": [],
   "source": [
    "hospitals.geo_lon = hospitals.geo.apply(lambda x: to_tuple(x)[1])"
   ]
  },
  {
   "cell_type": "code",
   "execution_count": 15,
   "metadata": {},
   "outputs": [
    {
     "data": {
      "text/html": [
       "<div>\n",
       "<style scoped>\n",
       "    .dataframe tbody tr th:only-of-type {\n",
       "        vertical-align: middle;\n",
       "    }\n",
       "\n",
       "    .dataframe tbody tr th {\n",
       "        vertical-align: top;\n",
       "    }\n",
       "\n",
       "    .dataframe thead th {\n",
       "        text-align: right;\n",
       "    }\n",
       "</style>\n",
       "<table border=\"1\" class=\"dataframe\">\n",
       "  <thead>\n",
       "    <tr style=\"text-align: right;\">\n",
       "      <th></th>\n",
       "      <th>nazwa</th>\n",
       "      <th>adres</th>\n",
       "      <th>telefon</th>\n",
       "      <th>geo</th>\n",
       "      <th>geo_lat</th>\n",
       "      <th>geo_lon</th>\n",
       "    </tr>\n",
       "  </thead>\n",
       "  <tbody>\n",
       "    <tr>\n",
       "      <th>0</th>\n",
       "      <td>WIELOSPECJALISTYCZNY SZPITAL MIEJSKI IM. JÓZEF...</td>\n",
       "      <td>POZNAŃ 61-285, UL. SZWAJCARSKA 3</td>\n",
       "      <td>61 873 90 000</td>\n",
       "      <td>('52.3895197', '16.995482')</td>\n",
       "      <td>52.3895</td>\n",
       "      <td>16.9955</td>\n",
       "    </tr>\n",
       "    <tr>\n",
       "      <th>1</th>\n",
       "      <td>WOJEWÓDZKI SZPITAL ZESPOLONY IM. DR. ROMANA OS...</td>\n",
       "      <td>KONIN 62-504, UL. SZPITALNA 45</td>\n",
       "      <td>63 240 43 000</td>\n",
       "      <td>('52.1913128', '18.2331492')</td>\n",
       "      <td>52.1913</td>\n",
       "      <td>18.2331</td>\n",
       "    </tr>\n",
       "    <tr>\n",
       "      <th>2</th>\n",
       "      <td>WOJEWÓDZKI SZPITAL ZESPOLONY IM.LUDWIKA PERZYN...</td>\n",
       "      <td>KALISZ 62-800, UL. POZNAŃSKA 79</td>\n",
       "      <td>62 765 13 56</td>\n",
       "      <td>('51.76522785', '18.0663836371474')</td>\n",
       "      <td>51.7652</td>\n",
       "      <td>18.0664</td>\n",
       "    </tr>\n",
       "  </tbody>\n",
       "</table>\n",
       "</div>"
      ],
      "text/plain": [
       "                                               nazwa  \\\n",
       "0  WIELOSPECJALISTYCZNY SZPITAL MIEJSKI IM. JÓZEF...   \n",
       "1  WOJEWÓDZKI SZPITAL ZESPOLONY IM. DR. ROMANA OS...   \n",
       "2  WOJEWÓDZKI SZPITAL ZESPOLONY IM.LUDWIKA PERZYN...   \n",
       "\n",
       "                              adres        telefon  \\\n",
       "0  POZNAŃ 61-285, UL. SZWAJCARSKA 3  61 873 90 000   \n",
       "1    KONIN 62-504, UL. SZPITALNA 45  63 240 43 000   \n",
       "2   KALISZ 62-800, UL. POZNAŃSKA 79   62 765 13 56   \n",
       "\n",
       "                                   geo  geo_lat  geo_lon  \n",
       "0          ('52.3895197', '16.995482')  52.3895  16.9955  \n",
       "1         ('52.1913128', '18.2331492')  52.1913  18.2331  \n",
       "2  ('51.76522785', '18.0663836371474')  51.7652  18.0664  "
      ]
     },
     "execution_count": 15,
     "metadata": {},
     "output_type": "execute_result"
    }
   ],
   "source": [
    "hospitals.head(3)"
   ]
  },
  {
   "cell_type": "code",
   "execution_count": 16,
   "metadata": {},
   "outputs": [],
   "source": [
    "my_loc = (hospitals.geo_lat.loc[0],hospitals.geo_lon.loc[0])"
   ]
  },
  {
   "cell_type": "code",
   "execution_count": 18,
   "metadata": {},
   "outputs": [],
   "source": [
    "hospitals_clear = hospitals.filter(hospitals.geo != 'a')"
   ]
  },
  {
   "cell_type": "code",
   "execution_count": 19,
   "metadata": {},
   "outputs": [
    {
     "data": {
      "text/plain": [
       "162"
      ]
     },
     "execution_count": 19,
     "metadata": {},
     "output_type": "execute_result"
    }
   ],
   "source": [
    "len(hospitals_clear)"
   ]
  },
  {
   "cell_type": "code",
   "execution_count": 20,
   "metadata": {},
   "outputs": [
    {
     "data": {
      "text/plain": [
       "162"
      ]
     },
     "execution_count": 20,
     "metadata": {},
     "output_type": "execute_result"
    }
   ],
   "source": [
    "len(hospitals)"
   ]
  },
  {
   "cell_type": "code",
   "execution_count": 26,
   "metadata": {},
   "outputs": [],
   "source": [
    "hospitals.to_csv('df_coords.csv')"
   ]
  },
  {
   "cell_type": "code",
   "execution_count": 35,
   "metadata": {},
   "outputs": [],
   "source": [
    "hospitals_clear = hospitals.filter(hospitals.loc[hospitals.geo == 'a'])"
   ]
  },
  {
   "cell_type": "code",
   "execution_count": 45,
   "metadata": {},
   "outputs": [],
   "source": [
    "hospitals_clear = hospitals.drop(hospitals.loc[hospitals.geo == 'a'].index)"
   ]
  },
  {
   "cell_type": "code",
   "execution_count": 46,
   "metadata": {},
   "outputs": [],
   "source": [
    "hospitals_clear.reset_index(drop=True,inplace=True)"
   ]
  },
  {
   "cell_type": "code",
   "execution_count": 48,
   "metadata": {},
   "outputs": [],
   "source": [
    "hospitals_clear = hospitals_clear.drop(columns=['geo'])"
   ]
  },
  {
   "cell_type": "code",
   "execution_count": 49,
   "metadata": {},
   "outputs": [
    {
     "data": {
      "text/html": [
       "<div>\n",
       "<style scoped>\n",
       "    .dataframe tbody tr th:only-of-type {\n",
       "        vertical-align: middle;\n",
       "    }\n",
       "\n",
       "    .dataframe tbody tr th {\n",
       "        vertical-align: top;\n",
       "    }\n",
       "\n",
       "    .dataframe thead th {\n",
       "        text-align: right;\n",
       "    }\n",
       "</style>\n",
       "<table border=\"1\" class=\"dataframe\">\n",
       "  <thead>\n",
       "    <tr style=\"text-align: right;\">\n",
       "      <th></th>\n",
       "      <th>nazwa</th>\n",
       "      <th>adres</th>\n",
       "      <th>telefon</th>\n",
       "      <th>geo_lat</th>\n",
       "      <th>geo_lon</th>\n",
       "    </tr>\n",
       "  </thead>\n",
       "  <tbody>\n",
       "    <tr>\n",
       "      <th>0</th>\n",
       "      <td>WIELOSPECJALISTYCZNY SZPITAL MIEJSKI IM. JÓZEF...</td>\n",
       "      <td>POZNAŃ 61-285, UL. SZWAJCARSKA 3</td>\n",
       "      <td>61 873 90 000</td>\n",
       "      <td>52.3895</td>\n",
       "      <td>16.9955</td>\n",
       "    </tr>\n",
       "    <tr>\n",
       "      <th>1</th>\n",
       "      <td>WOJEWÓDZKI SZPITAL ZESPOLONY IM. DR. ROMANA OS...</td>\n",
       "      <td>KONIN 62-504, UL. SZPITALNA 45</td>\n",
       "      <td>63 240 43 000</td>\n",
       "      <td>52.1913</td>\n",
       "      <td>18.2331</td>\n",
       "    </tr>\n",
       "    <tr>\n",
       "      <th>2</th>\n",
       "      <td>WOJEWÓDZKI SZPITAL ZESPOLONY IM.LUDWIKA PERZYN...</td>\n",
       "      <td>KALISZ 62-800, UL. POZNAŃSKA 79</td>\n",
       "      <td>62 765 13 56</td>\n",
       "      <td>51.7652</td>\n",
       "      <td>18.0664</td>\n",
       "    </tr>\n",
       "    <tr>\n",
       "      <th>3</th>\n",
       "      <td>SZPITAL POWIATOWY IM. ROMANA DREWSA W CHODZIEŻY</td>\n",
       "      <td>ŻEROMSKIEGO 29 64-800 CHODZIEŻ</td>\n",
       "      <td>67 282 92 21</td>\n",
       "      <td>52.9881</td>\n",
       "      <td>16.9157</td>\n",
       "    </tr>\n",
       "    <tr>\n",
       "      <th>4</th>\n",
       "      <td>SAMODZIELNY PUBLICZNY ZAKŁAD OPIEKI ZDROWOTNEJ...</td>\n",
       "      <td>PODUCHOWNE 1 62-700 TUREK</td>\n",
       "      <td>63 280 55 08</td>\n",
       "      <td>52.0103</td>\n",
       "      <td>18.4908</td>\n",
       "    </tr>\n",
       "  </tbody>\n",
       "</table>\n",
       "</div>"
      ],
      "text/plain": [
       "                                               nazwa  \\\n",
       "0  WIELOSPECJALISTYCZNY SZPITAL MIEJSKI IM. JÓZEF...   \n",
       "1  WOJEWÓDZKI SZPITAL ZESPOLONY IM. DR. ROMANA OS...   \n",
       "2  WOJEWÓDZKI SZPITAL ZESPOLONY IM.LUDWIKA PERZYN...   \n",
       "3    SZPITAL POWIATOWY IM. ROMANA DREWSA W CHODZIEŻY   \n",
       "4  SAMODZIELNY PUBLICZNY ZAKŁAD OPIEKI ZDROWOTNEJ...   \n",
       "\n",
       "                              adres        telefon  geo_lat  geo_lon  \n",
       "0  POZNAŃ 61-285, UL. SZWAJCARSKA 3  61 873 90 000  52.3895  16.9955  \n",
       "1    KONIN 62-504, UL. SZPITALNA 45  63 240 43 000  52.1913  18.2331  \n",
       "2   KALISZ 62-800, UL. POZNAŃSKA 79   62 765 13 56  51.7652  18.0664  \n",
       "3    ŻEROMSKIEGO 29 64-800 CHODZIEŻ   67 282 92 21  52.9881  16.9157  \n",
       "4         PODUCHOWNE 1 62-700 TUREK   63 280 55 08  52.0103  18.4908  "
      ]
     },
     "execution_count": 49,
     "metadata": {},
     "output_type": "execute_result"
    }
   ],
   "source": [
    "hospitals_clear.head()"
   ]
  },
  {
   "cell_type": "code",
   "execution_count": 50,
   "metadata": {},
   "outputs": [],
   "source": [
    "hospitals.to_csv('df_coords.csv')"
   ]
  },
  {
   "cell_type": "code",
   "execution_count": 51,
   "metadata": {},
   "outputs": [],
   "source": [
    "my_loc = (52.34, 18.45)"
   ]
  },
  {
   "cell_type": "code",
   "execution_count": 52,
   "metadata": {},
   "outputs": [],
   "source": [
    "def get_distance(from_coords, lat, lon):\n",
    "    return great_circle(from_coords,(lat, lon)).kilometers\n",
    "    "
   ]
  },
  {
   "cell_type": "code",
   "execution_count": 74,
   "metadata": {},
   "outputs": [],
   "source": [
    "def get_closest(frame, position):\n",
    "    distances = pd.DataFrame(frame.apply(lambda x: get_distance(position,x['geo_lat'],x['geo_lon']), axis=1))\n",
    "    return frame.loc[distances.min().index.values]"
   ]
  },
  {
   "cell_type": "code",
   "execution_count": 76,
   "metadata": {},
   "outputs": [
    {
     "data": {
      "text/html": [
       "<div>\n",
       "<style scoped>\n",
       "    .dataframe tbody tr th:only-of-type {\n",
       "        vertical-align: middle;\n",
       "    }\n",
       "\n",
       "    .dataframe tbody tr th {\n",
       "        vertical-align: top;\n",
       "    }\n",
       "\n",
       "    .dataframe thead th {\n",
       "        text-align: right;\n",
       "    }\n",
       "</style>\n",
       "<table border=\"1\" class=\"dataframe\">\n",
       "  <thead>\n",
       "    <tr style=\"text-align: right;\">\n",
       "      <th></th>\n",
       "      <th>nazwa</th>\n",
       "      <th>adres</th>\n",
       "      <th>telefon</th>\n",
       "      <th>geo_lat</th>\n",
       "      <th>geo_lon</th>\n",
       "    </tr>\n",
       "  </thead>\n",
       "  <tbody>\n",
       "    <tr>\n",
       "      <th>0</th>\n",
       "      <td>WIELOSPECJALISTYCZNY SZPITAL MIEJSKI IM. JÓZEF...</td>\n",
       "      <td>POZNAŃ 61-285, UL. SZWAJCARSKA 3</td>\n",
       "      <td>61 873 90 000</td>\n",
       "      <td>52.3895</td>\n",
       "      <td>16.9955</td>\n",
       "    </tr>\n",
       "  </tbody>\n",
       "</table>\n",
       "</div>"
      ],
      "text/plain": [
       "                                               nazwa  \\\n",
       "0  WIELOSPECJALISTYCZNY SZPITAL MIEJSKI IM. JÓZEF...   \n",
       "\n",
       "                              adres        telefon  geo_lat  geo_lon  \n",
       "0  POZNAŃ 61-285, UL. SZWAJCARSKA 3  61 873 90 000  52.3895  16.9955  "
      ]
     },
     "execution_count": 76,
     "metadata": {},
     "output_type": "execute_result"
    }
   ],
   "source": [
    "get_closest(hospitals_clear,my_loc)"
   ]
  },
  {
   "cell_type": "code",
   "execution_count": 77,
   "metadata": {},
   "outputs": [],
   "source": [
    "hospitals_clear.to_csv('df_coords_clear.csv')"
   ]
  },
  {
   "cell_type": "code",
   "execution_count": null,
   "metadata": {},
   "outputs": [],
   "source": []
  }
 ],
 "metadata": {
  "kernelspec": {
   "display_name": "Python 3",
   "language": "python",
   "name": "python3"
  },
  "language_info": {
   "codemirror_mode": {
    "name": "ipython",
    "version": 3
   },
   "file_extension": ".py",
   "mimetype": "text/x-python",
   "name": "python",
   "nbconvert_exporter": "python",
   "pygments_lexer": "ipython3",
   "version": "3.6.9"
  }
 },
 "nbformat": 4,
 "nbformat_minor": 2
}
