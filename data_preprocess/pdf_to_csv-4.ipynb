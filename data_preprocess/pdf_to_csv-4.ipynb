{
 "cells": [
  {
   "cell_type": "code",
   "execution_count": 1,
   "metadata": {},
   "outputs": [],
   "source": [
    "import tabula\n",
    "import pandas as pd\n",
    "import os\n",
    "import re"
   ]
  },
  {
   "cell_type": "code",
   "execution_count": 3,
   "metadata": {},
   "outputs": [],
   "source": [
    "os.chdir(os.path.join(os.getcwd(),'csv_not_in/'))\n",
    "pdfs = [x for x in os.listdir() if x.endswith('.pdf')]"
   ]
  },
  {
   "cell_type": "code",
   "execution_count": 4,
   "metadata": {
    "collapsed": true
   },
   "outputs": [
    {
     "name": "stderr",
     "output_type": "stream",
     "text": [
      "Got stderr: mar 16, 2020 10:22:52 PM org.apache.pdfbox.pdmodel.font.PDCIDFontType2 <init>\n",
      "INFO: OpenType Layout tables used in font ABCDEE+Calibri are not implemented in PDFBox and will be ignored\n",
      "mar 16, 2020 10:22:52 PM org.apache.pdfbox.pdmodel.font.PDCIDFontType2 <init>\n",
      "INFO: OpenType Layout tables used in font ABCDEE+Calibri-Bold are not implemented in PDFBox and will be ignored\n",
      "mar 16, 2020 10:22:52 PM org.apache.pdfbox.pdmodel.font.PDCIDFontType2 <init>\n",
      "INFO: OpenType Layout tables used in font ABCDEE+Calibri are not implemented in PDFBox and will be ignored\n",
      "mar 16, 2020 10:22:52 PM org.apache.pdfbox.pdmodel.font.PDSimpleFont toUnicode\n",
      "WARNING: No Unicode mapping for .notdef (9) in font ABCDEE+Calibri\n",
      "mar 16, 2020 10:22:53 PM org.apache.pdfbox.pdmodel.font.PDCIDFontType2 <init>\n",
      "INFO: OpenType Layout tables used in font ABCDEE+Calibri-BoldItalic are not implemented in PDFBox and will be ignored\n",
      "\n",
      "Got stderr: mar 16, 2020 10:22:54 PM org.apache.pdfbox.pdmodel.font.PDCIDFontType2 <init>\n",
      "INFO: OpenType Layout tables used in font ABCDEE+Calibri-Bold are not implemented in PDFBox and will be ignored\n",
      "mar 16, 2020 10:22:54 PM org.apache.pdfbox.pdmodel.font.PDCIDFontType2 <init>\n",
      "INFO: OpenType Layout tables used in font ABCDEE+Calibri are not implemented in PDFBox and will be ignored\n",
      "\n",
      "Got stderr: mar 16, 2020 10:23:03 PM org.apache.pdfbox.pdmodel.font.PDCIDFontType2 <init>\n",
      "INFO: OpenType Layout tables used in font ABCDEE+Calibri are not implemented in PDFBox and will be ignored\n",
      "mar 16, 2020 10:23:03 PM org.apache.pdfbox.pdmodel.font.PDCIDFontType2 <init>\n",
      "INFO: OpenType Layout tables used in font ABCDEE+Calibri-Bold are not implemented in PDFBox and will be ignored\n",
      "mar 16, 2020 10:23:03 PM org.apache.pdfbox.pdmodel.font.PDCIDFontType2 <init>\n",
      "INFO: OpenType Layout tables used in font ABCDEE+Verdana-Bold are not implemented in PDFBox and will be ignored\n",
      "mar 16, 2020 10:23:03 PM org.apache.pdfbox.pdmodel.font.PDCIDFontType2 <init>\n",
      "INFO: OpenType Layout tables used in font ABCDEE+Calibri are not implemented in PDFBox and will be ignored\n",
      "mar 16, 2020 10:23:04 PM org.apache.pdfbox.pdmodel.font.PDCIDFontType2 <init>\n",
      "INFO: OpenType Layout tables used in font ABCDEE+Calibri-Bold are not implemented in PDFBox and will be ignored\n",
      "mar 16, 2020 10:23:04 PM org.apache.pdfbox.pdmodel.font.PDCIDFontType2 <init>\n",
      "INFO: OpenType Layout tables used in font ABCDEE+Verdana-Bold are not implemented in PDFBox and will be ignored\n",
      "mar 16, 2020 10:23:04 PM org.apache.pdfbox.pdmodel.font.PDCIDFontType2 <init>\n",
      "INFO: OpenType Layout tables used in font ABCDEE+Calibri are not implemented in PDFBox and will be ignored\n",
      "mar 16, 2020 10:23:04 PM org.apache.pdfbox.pdmodel.font.PDCIDFontType2 <init>\n",
      "INFO: OpenType Layout tables used in font ABCDEE+Calibri-Bold are not implemented in PDFBox and will be ignored\n",
      "mar 16, 2020 10:23:04 PM org.apache.pdfbox.pdmodel.font.PDCIDFontType2 <init>\n",
      "INFO: OpenType Layout tables used in font ABCDEE+Verdana-Bold are not implemented in PDFBox and will be ignored\n",
      "mar 16, 2020 10:23:05 PM org.apache.pdfbox.pdmodel.font.PDCIDFontType2 <init>\n",
      "INFO: OpenType Layout tables used in font ABCDEE+Calibri-Bold are not implemented in PDFBox and will be ignored\n",
      "mar 16, 2020 10:23:05 PM org.apache.pdfbox.pdmodel.font.PDCIDFontType2 <init>\n",
      "INFO: OpenType Layout tables used in font ABCDEE+Calibri are not implemented in PDFBox and will be ignored\n",
      "mar 16, 2020 10:23:05 PM org.apache.pdfbox.pdmodel.font.PDCIDFontType2 <init>\n",
      "INFO: OpenType Layout tables used in font ABCDEE+Calibri-Bold are not implemented in PDFBox and will be ignored\n",
      "mar 16, 2020 10:23:05 PM org.apache.pdfbox.pdmodel.font.PDCIDFontType2 <init>\n",
      "INFO: OpenType Layout tables used in font ABCDEE+Calibri are not implemented in PDFBox and will be ignored\n",
      "\n"
     ]
    }
   ],
   "source": [
    "table_list = []\n",
    "\n",
    "for pdf in pdfs:\n",
    "    tables = tabula.read_pdf(pdf, multiple_tables=True, pages='all')\n",
    "    for table in tables:\n",
    "        table_list.append([table, pdf])"
   ]
  },
  {
   "cell_type": "code",
   "execution_count": 5,
   "metadata": {},
   "outputs": [],
   "source": [
    "complex_tables = []\n",
    "simple_tables = []\n",
    "pattern = 'Podmiot'\n",
    "for l in table_list:\n",
    "    text = list(l[0].columns)[0]\n",
    "    if re.search(pattern,text):\n",
    "        simple_tables.append(l[0])\n",
    "    else:\n",
    "        complex_tables.append(l[0])\n"
   ]
  },
  {
   "cell_type": "code",
   "execution_count": 6,
   "metadata": {
    "scrolled": true
   },
   "outputs": [
    {
     "data": {
      "text/html": [
       "<div>\n",
       "<style scoped>\n",
       "    .dataframe tbody tr th:only-of-type {\n",
       "        vertical-align: middle;\n",
       "    }\n",
       "\n",
       "    .dataframe tbody tr th {\n",
       "        vertical-align: top;\n",
       "    }\n",
       "\n",
       "    .dataframe thead th {\n",
       "        text-align: right;\n",
       "    }\n",
       "</style>\n",
       "<table border=\"1\" class=\"dataframe\">\n",
       "  <thead>\n",
       "    <tr style=\"text-align: right;\">\n",
       "      <th></th>\n",
       "      <th>Podmiot wykonujący działalność leczniczą 2</th>\n",
       "      <th>Unnamed: 0</th>\n",
       "    </tr>\n",
       "  </thead>\n",
       "  <tbody>\n",
       "    <tr>\n",
       "      <th>0</th>\n",
       "      <td>nazwa:</td>\n",
       "      <td>WIELOSPECJALISTYCZNY SZPITAL MIEJSKI IM. JÓZEF...</td>\n",
       "    </tr>\n",
       "    <tr>\n",
       "      <th>1</th>\n",
       "      <td>adres: miejscowość/ kod pocztowy/ ulica i nr domu</td>\n",
       "      <td>Poznań 61-285, ul. Szwajcarska 3</td>\n",
       "    </tr>\n",
       "    <tr>\n",
       "      <th>2</th>\n",
       "      <td>telefon/ telefony:</td>\n",
       "      <td>61 873 90 000</td>\n",
       "    </tr>\n",
       "    <tr>\n",
       "      <th>3</th>\n",
       "      <td>identyfikator REGON</td>\n",
       "      <td>000306331</td>\n",
       "    </tr>\n",
       "    <tr>\n",
       "      <th>4</th>\n",
       "      <td>Miejsce udzielania świadczeń 1 *</td>\n",
       "      <td>NaN</td>\n",
       "    </tr>\n",
       "    <tr>\n",
       "      <th>5</th>\n",
       "      <td>nazwa:</td>\n",
       "      <td>Oddział Zakaźny</td>\n",
       "    </tr>\n",
       "    <tr>\n",
       "      <th>6</th>\n",
       "      <td>adres: miejscowość/ kod pocztowy/ ulica i nr domu</td>\n",
       "      <td>Poznań 61-285, ul. Szwajcarska 3</td>\n",
       "    </tr>\n",
       "    <tr>\n",
       "      <th>7</th>\n",
       "      <td>telefon/ telefony</td>\n",
       "      <td>61 843 92 95</td>\n",
       "    </tr>\n",
       "    <tr>\n",
       "      <th>8</th>\n",
       "      <td>Miejsce udzielania świadczeń 2 *</td>\n",
       "      <td>NaN</td>\n",
       "    </tr>\n",
       "    <tr>\n",
       "      <th>9</th>\n",
       "      <td>nazwa:</td>\n",
       "      <td>Oddział Chorób Wewnętrznych</td>\n",
       "    </tr>\n",
       "    <tr>\n",
       "      <th>10</th>\n",
       "      <td>adres: miejscowość/ kod pocztowy/ ulica i nr domu</td>\n",
       "      <td>Poznań 61-285, ul. Szwajcarska 3</td>\n",
       "    </tr>\n",
       "    <tr>\n",
       "      <th>11</th>\n",
       "      <td>telefon/ telefony</td>\n",
       "      <td>61 873 91 29</td>\n",
       "    </tr>\n",
       "    <tr>\n",
       "      <th>12</th>\n",
       "      <td>Miejsce udzielania świadczeń 3 *</td>\n",
       "      <td>NaN</td>\n",
       "    </tr>\n",
       "    <tr>\n",
       "      <th>13</th>\n",
       "      <td>nazwa:</td>\n",
       "      <td>Oddział Anestezjologii i Intensywnej Terapii</td>\n",
       "    </tr>\n",
       "    <tr>\n",
       "      <th>14</th>\n",
       "      <td>adres: miejscowość/ kod pocztowy/ ulica i nr domu</td>\n",
       "      <td>Poznań 61-285, ul. Szwajcarska 3</td>\n",
       "    </tr>\n",
       "    <tr>\n",
       "      <th>15</th>\n",
       "      <td>telefon/ telefony</td>\n",
       "      <td>798 844 065</td>\n",
       "    </tr>\n",
       "    <tr>\n",
       "      <th>16</th>\n",
       "      <td>Miejsce udzielania świadczeń 4 *</td>\n",
       "      <td>NaN</td>\n",
       "    </tr>\n",
       "    <tr>\n",
       "      <th>17</th>\n",
       "      <td>nazwa:</td>\n",
       "      <td>Oddział Okulistyczny</td>\n",
       "    </tr>\n",
       "    <tr>\n",
       "      <th>18</th>\n",
       "      <td>adres: miejscowość/ kod pocztowy/ ulica i nr domu</td>\n",
       "      <td>Poznań 61-285, ul. Szwajcarska 3</td>\n",
       "    </tr>\n",
       "    <tr>\n",
       "      <th>19</th>\n",
       "      <td>telefon/ telefony</td>\n",
       "      <td>61 87 39 461</td>\n",
       "    </tr>\n",
       "    <tr>\n",
       "      <th>20</th>\n",
       "      <td>Miejsce udzielania świadczeń 5 *</td>\n",
       "      <td>NaN</td>\n",
       "    </tr>\n",
       "    <tr>\n",
       "      <th>21</th>\n",
       "      <td>nazwa:</td>\n",
       "      <td>Oddział Ortopedii i Traumatologii Narządu Ruchu</td>\n",
       "    </tr>\n",
       "    <tr>\n",
       "      <th>22</th>\n",
       "      <td>adres: miejscowość/ kod pocztowy/ ulica i nr domu</td>\n",
       "      <td>Poznań 61-285, ul. Szwajcarska 3</td>\n",
       "    </tr>\n",
       "    <tr>\n",
       "      <th>23</th>\n",
       "      <td>telefon/ telefony</td>\n",
       "      <td>61 873 93 52 lub 61 873 93 53</td>\n",
       "    </tr>\n",
       "    <tr>\n",
       "      <th>24</th>\n",
       "      <td>Miejsce udzielania świadczeń 6 *</td>\n",
       "      <td>NaN</td>\n",
       "    </tr>\n",
       "    <tr>\n",
       "      <th>25</th>\n",
       "      <td>nazwa:</td>\n",
       "      <td>Oddział Reumatologii i Osteoporozy</td>\n",
       "    </tr>\n",
       "    <tr>\n",
       "      <th>26</th>\n",
       "      <td>adres: miejscowość/ kod pocztowy/ ulica i nr domu</td>\n",
       "      <td>Poznań 61-285, ul. Szwajcarska 3</td>\n",
       "    </tr>\n",
       "    <tr>\n",
       "      <th>27</th>\n",
       "      <td>telefon/ telefony</td>\n",
       "      <td>61 873 92 41</td>\n",
       "    </tr>\n",
       "    <tr>\n",
       "      <th>28</th>\n",
       "      <td>Miejsce udzielania świadczeń 7 *</td>\n",
       "      <td>NaN</td>\n",
       "    </tr>\n",
       "    <tr>\n",
       "      <th>29</th>\n",
       "      <td>nazwa:</td>\n",
       "      <td>Oddział Neurologii</td>\n",
       "    </tr>\n",
       "    <tr>\n",
       "      <th>30</th>\n",
       "      <td>adres: miejscowość/ kod pocztowy/ ulica i nr domu</td>\n",
       "      <td>Poznań 61-285, ul. Szwajcarska 3</td>\n",
       "    </tr>\n",
       "    <tr>\n",
       "      <th>31</th>\n",
       "      <td>telefon/ telefony</td>\n",
       "      <td>61 873 91 22</td>\n",
       "    </tr>\n",
       "    <tr>\n",
       "      <th>32</th>\n",
       "      <td>Miejsce udzielania świadczeń 8 *</td>\n",
       "      <td>NaN</td>\n",
       "    </tr>\n",
       "    <tr>\n",
       "      <th>33</th>\n",
       "      <td>nazwa:</td>\n",
       "      <td>Oddział Chirurgii Ogólnej, Laparoskopowej i En...</td>\n",
       "    </tr>\n",
       "    <tr>\n",
       "      <th>34</th>\n",
       "      <td>adres: miejscowość/ kod pocztowy/ ulica i nr domu</td>\n",
       "      <td>Poznań 61-285, ul. Szwajcarska 3</td>\n",
       "    </tr>\n",
       "    <tr>\n",
       "      <th>35</th>\n",
       "      <td>telefon/ telefony</td>\n",
       "      <td>61 873 91 55</td>\n",
       "    </tr>\n",
       "  </tbody>\n",
       "</table>\n",
       "</div>"
      ],
      "text/plain": [
       "           Podmiot wykonujący działalność leczniczą 2  \\\n",
       "0                                              nazwa:   \n",
       "1   adres: miejscowość/ kod pocztowy/ ulica i nr domu   \n",
       "2                                  telefon/ telefony:   \n",
       "3                                 identyfikator REGON   \n",
       "4                    Miejsce udzielania świadczeń 1 *   \n",
       "5                                              nazwa:   \n",
       "6   adres: miejscowość/ kod pocztowy/ ulica i nr domu   \n",
       "7                                   telefon/ telefony   \n",
       "8                    Miejsce udzielania świadczeń 2 *   \n",
       "9                                              nazwa:   \n",
       "10  adres: miejscowość/ kod pocztowy/ ulica i nr domu   \n",
       "11                                  telefon/ telefony   \n",
       "12                   Miejsce udzielania świadczeń 3 *   \n",
       "13                                             nazwa:   \n",
       "14  adres: miejscowość/ kod pocztowy/ ulica i nr domu   \n",
       "15                                  telefon/ telefony   \n",
       "16                   Miejsce udzielania świadczeń 4 *   \n",
       "17                                             nazwa:   \n",
       "18  adres: miejscowość/ kod pocztowy/ ulica i nr domu   \n",
       "19                                  telefon/ telefony   \n",
       "20                   Miejsce udzielania świadczeń 5 *   \n",
       "21                                             nazwa:   \n",
       "22  adres: miejscowość/ kod pocztowy/ ulica i nr domu   \n",
       "23                                  telefon/ telefony   \n",
       "24                   Miejsce udzielania świadczeń 6 *   \n",
       "25                                             nazwa:   \n",
       "26  adres: miejscowość/ kod pocztowy/ ulica i nr domu   \n",
       "27                                  telefon/ telefony   \n",
       "28                   Miejsce udzielania świadczeń 7 *   \n",
       "29                                             nazwa:   \n",
       "30  adres: miejscowość/ kod pocztowy/ ulica i nr domu   \n",
       "31                                  telefon/ telefony   \n",
       "32                   Miejsce udzielania świadczeń 8 *   \n",
       "33                                             nazwa:   \n",
       "34  adres: miejscowość/ kod pocztowy/ ulica i nr domu   \n",
       "35                                  telefon/ telefony   \n",
       "\n",
       "                                           Unnamed: 0  \n",
       "0   WIELOSPECJALISTYCZNY SZPITAL MIEJSKI IM. JÓZEF...  \n",
       "1                    Poznań 61-285, ul. Szwajcarska 3  \n",
       "2                                       61 873 90 000  \n",
       "3                                           000306331  \n",
       "4                                                 NaN  \n",
       "5                                     Oddział Zakaźny  \n",
       "6                    Poznań 61-285, ul. Szwajcarska 3  \n",
       "7                                        61 843 92 95  \n",
       "8                                                 NaN  \n",
       "9                         Oddział Chorób Wewnętrznych  \n",
       "10                   Poznań 61-285, ul. Szwajcarska 3  \n",
       "11                                       61 873 91 29  \n",
       "12                                                NaN  \n",
       "13       Oddział Anestezjologii i Intensywnej Terapii  \n",
       "14                   Poznań 61-285, ul. Szwajcarska 3  \n",
       "15                                        798 844 065  \n",
       "16                                                NaN  \n",
       "17                               Oddział Okulistyczny  \n",
       "18                   Poznań 61-285, ul. Szwajcarska 3  \n",
       "19                                       61 87 39 461  \n",
       "20                                                NaN  \n",
       "21    Oddział Ortopedii i Traumatologii Narządu Ruchu  \n",
       "22                   Poznań 61-285, ul. Szwajcarska 3  \n",
       "23                      61 873 93 52 lub 61 873 93 53  \n",
       "24                                                NaN  \n",
       "25                 Oddział Reumatologii i Osteoporozy  \n",
       "26                   Poznań 61-285, ul. Szwajcarska 3  \n",
       "27                                       61 873 92 41  \n",
       "28                                                NaN  \n",
       "29                                 Oddział Neurologii  \n",
       "30                   Poznań 61-285, ul. Szwajcarska 3  \n",
       "31                                       61 873 91 22  \n",
       "32                                                NaN  \n",
       "33  Oddział Chirurgii Ogólnej, Laparoskopowej i En...  \n",
       "34                   Poznań 61-285, ul. Szwajcarska 3  \n",
       "35                                       61 873 91 55  "
      ]
     },
     "execution_count": 6,
     "metadata": {},
     "output_type": "execute_result"
    }
   ],
   "source": [
    "simple_tables[0]"
   ]
  },
  {
   "cell_type": "code",
   "execution_count": 7,
   "metadata": {},
   "outputs": [],
   "source": [
    "exceptions = []\n",
    "def transform(df):\n",
    "    \n",
    "    if len(df.columns) == 2:\n",
    "        df.columns = [1,2]\n",
    "        df.set_index(1)\n",
    "        col = ['nazwa', 'adres', 'telefon']\n",
    "        try:\n",
    "            df.insert(0,'index',col)\n",
    "            df.drop(columns=1, inplace=True)\n",
    "            df.set_index('index', inplace=True)\n",
    "            df = df.transpose()\n",
    "            return df\n",
    "        except ValueError:\n",
    "            exceptions.append(df)"
   ]
  },
  {
   "cell_type": "code",
   "execution_count": 10,
   "metadata": {},
   "outputs": [
    {
     "data": {
      "text/html": [
       "<div>\n",
       "<style scoped>\n",
       "    .dataframe tbody tr th:only-of-type {\n",
       "        vertical-align: middle;\n",
       "    }\n",
       "\n",
       "    .dataframe tbody tr th {\n",
       "        vertical-align: top;\n",
       "    }\n",
       "\n",
       "    .dataframe thead th {\n",
       "        text-align: right;\n",
       "    }\n",
       "</style>\n",
       "<table border=\"1\" class=\"dataframe\">\n",
       "  <thead>\n",
       "    <tr style=\"text-align: right;\">\n",
       "      <th></th>\n",
       "      <th>Podmiot wykonujący działalność leczniczą 2</th>\n",
       "      <th>Unnamed: 0</th>\n",
       "    </tr>\n",
       "  </thead>\n",
       "  <tbody>\n",
       "    <tr>\n",
       "      <th>0</th>\n",
       "      <td>nazwa:</td>\n",
       "      <td>WIELOSPECJALISTYCZNY SZPITAL MIEJSKI IM. JÓZEF...</td>\n",
       "    </tr>\n",
       "    <tr>\n",
       "      <th>1</th>\n",
       "      <td>adres: miejscowość/ kod pocztowy/ ulica i nr domu</td>\n",
       "      <td>Poznań 61-285, ul. Szwajcarska 3</td>\n",
       "    </tr>\n",
       "    <tr>\n",
       "      <th>2</th>\n",
       "      <td>telefon/ telefony:</td>\n",
       "      <td>61 873 90 000</td>\n",
       "    </tr>\n",
       "  </tbody>\n",
       "</table>\n",
       "</div>"
      ],
      "text/plain": [
       "          Podmiot wykonujący działalność leczniczą 2  \\\n",
       "0                                             nazwa:   \n",
       "1  adres: miejscowość/ kod pocztowy/ ulica i nr domu   \n",
       "2                                 telefon/ telefony:   \n",
       "\n",
       "                                          Unnamed: 0  \n",
       "0  WIELOSPECJALISTYCZNY SZPITAL MIEJSKI IM. JÓZEF...  \n",
       "1                   Poznań 61-285, ul. Szwajcarska 3  \n",
       "2                                      61 873 90 000  "
      ]
     },
     "execution_count": 10,
     "metadata": {},
     "output_type": "execute_result"
    }
   ],
   "source": [
    "simple_tables[0][:3]"
   ]
  },
  {
   "cell_type": "code",
   "execution_count": 11,
   "metadata": {
    "scrolled": true
   },
   "outputs": [
    {
     "name": "stderr",
     "output_type": "stream",
     "text": [
      "/home/ms/.local/lib/python3.6/site-packages/pandas/core/frame.py:3997: SettingWithCopyWarning: \n",
      "A value is trying to be set on a copy of a slice from a DataFrame\n",
      "\n",
      "See the caveats in the documentation: https://pandas.pydata.org/pandas-docs/stable/user_guide/indexing.html#returning-a-view-versus-a-copy\n",
      "  errors=errors,\n"
     ]
    }
   ],
   "source": [
    "hospital_list = []\n",
    "for table in simple_tables:\n",
    "    frame = table[:3]\n",
    "    hospital = transform(frame)\n",
    "    hospital_list.append(hospital)\n",
    "    "
   ]
  },
  {
   "cell_type": "code",
   "execution_count": 12,
   "metadata": {},
   "outputs": [],
   "source": [
    "df = pd.concat(hospital_list)"
   ]
  },
  {
   "cell_type": "code",
   "execution_count": 13,
   "metadata": {},
   "outputs": [],
   "source": [
    "df = df.reset_index()"
   ]
  },
  {
   "cell_type": "code",
   "execution_count": 14,
   "metadata": {},
   "outputs": [],
   "source": [
    "df.drop('index', axis=1, inplace=True)"
   ]
  },
  {
   "cell_type": "code",
   "execution_count": 15,
   "metadata": {},
   "outputs": [
    {
     "data": {
      "text/html": [
       "<div>\n",
       "<style scoped>\n",
       "    .dataframe tbody tr th:only-of-type {\n",
       "        vertical-align: middle;\n",
       "    }\n",
       "\n",
       "    .dataframe tbody tr th {\n",
       "        vertical-align: top;\n",
       "    }\n",
       "\n",
       "    .dataframe thead th {\n",
       "        text-align: right;\n",
       "    }\n",
       "</style>\n",
       "<table border=\"1\" class=\"dataframe\">\n",
       "  <thead>\n",
       "    <tr style=\"text-align: right;\">\n",
       "      <th>index</th>\n",
       "      <th>nazwa</th>\n",
       "      <th>adres</th>\n",
       "      <th>telefon</th>\n",
       "    </tr>\n",
       "  </thead>\n",
       "  <tbody>\n",
       "    <tr>\n",
       "      <th>0</th>\n",
       "      <td>WIELOSPECJALISTYCZNY SZPITAL MIEJSKI IM. JÓZEF...</td>\n",
       "      <td>Poznań 61-285, ul. Szwajcarska 3</td>\n",
       "      <td>61 873 90 000</td>\n",
       "    </tr>\n",
       "    <tr>\n",
       "      <th>1</th>\n",
       "      <td>WOJEWÓDZKI SZPITAL ZESPOLONY IM. DR. ROMANA OS...</td>\n",
       "      <td>Konin 62-504, ul. Szpitalna 45</td>\n",
       "      <td>63 240 43 000</td>\n",
       "    </tr>\n",
       "    <tr>\n",
       "      <th>2</th>\n",
       "      <td>WOJEWÓDZKI SZPITAL ZESPOLONY IM.LUDWIKA PERZYN...</td>\n",
       "      <td>Kalisz 62-800, ul. Poznańska 79</td>\n",
       "      <td>62 765 13 56</td>\n",
       "    </tr>\n",
       "    <tr>\n",
       "      <th>3</th>\n",
       "      <td>SZPITAL POWIATOWY IM. ROMANA DREWSA W CHODZIEŻY</td>\n",
       "      <td>ŻEROMSKIEGO 29\\r64-800 CHODZIEŻ</td>\n",
       "      <td>67 282 92 21</td>\n",
       "    </tr>\n",
       "    <tr>\n",
       "      <th>4</th>\n",
       "      <td>SAMODZIELNY PUBLICZNY ZAKŁAD OPIEKI ZDROWOTNEJ...</td>\n",
       "      <td>PODUCHOWNE 1\\r62-700 TUREK</td>\n",
       "      <td>63 280 55 08</td>\n",
       "    </tr>\n",
       "    <tr>\n",
       "      <th>5</th>\n",
       "      <td>SAMODZIELNY PUBLICZNY ZAKŁAD OPIEKI ZDROWOTNEJ...</td>\n",
       "      <td>SZPITALNA 7\\r63-600 KĘPNO</td>\n",
       "      <td>62 782 73 09</td>\n",
       "    </tr>\n",
       "    <tr>\n",
       "      <th>6</th>\n",
       "      <td>WOJEWÓDZKI SZPITAL ZESPOLONY W LESZNIE</td>\n",
       "      <td>KIEPURY 45\\r64-100 LESZNO</td>\n",
       "      <td>65 525 31 13</td>\n",
       "    </tr>\n",
       "    <tr>\n",
       "      <th>7</th>\n",
       "      <td>WOJEWÓDZKA STACJA POGOTOWIA RATUNKOWEGO SP ZOZ...</td>\n",
       "      <td>RYCERSKA 10\\r60-346 POZNAŃ</td>\n",
       "      <td>61 864 88 12</td>\n",
       "    </tr>\n",
       "    <tr>\n",
       "      <th>8</th>\n",
       "      <td>SZPITAL POWIATOWY W ŚREMIE SP. Z O.O.</td>\n",
       "      <td>CHEŁMOŃSKIEGO 1\\r63-100 ŚREM</td>\n",
       "      <td>61 281 54 43</td>\n",
       "    </tr>\n",
       "    <tr>\n",
       "      <th>9</th>\n",
       "      <td>WIELKOPOLSKIE CENTRUM RATOWNICTWA MEDYCZNEGO S...</td>\n",
       "      <td>KARD. S. WYSZYŃSKIEGO 1\\r62-510 KONIN</td>\n",
       "      <td>63 245 19 51</td>\n",
       "    </tr>\n",
       "    <tr>\n",
       "      <th>10</th>\n",
       "      <td>SZPITAL MIEJSKI ŚW. JANA PAWŁA II W\\rELBLĄGU</td>\n",
       "      <td>ELBLĄG, 82-300, UL. JANA AMOSA\\rKOMEŃSKIEGO 35</td>\n",
       "      <td>55 230 42 58</td>\n",
       "    </tr>\n",
       "    <tr>\n",
       "      <th>11</th>\n",
       "      <td>SZPITAL  W OSTRÓDZIE SPÓŁKA AKCYJNA</td>\n",
       "      <td>OSTRÓDA, 14-100, UL. WŁADYSŁAWA\\rJAGIEŁŁY 1</td>\n",
       "      <td>668 207 209</td>\n",
       "    </tr>\n",
       "    <tr>\n",
       "      <th>12</th>\n",
       "      <td>WOJEWÓDZKI SPECJALISTYCZNY SZPITAL\\rDZIECIĘCY ...</td>\n",
       "      <td>OLSZTYN, 10-651, UL. ŻOŁNIERSKA 18 A</td>\n",
       "      <td>89 539 34 21</td>\n",
       "    </tr>\n",
       "    <tr>\n",
       "      <th>13</th>\n",
       "      <td>WOJEWÓDZKA STACJA POGOTOWIA\\rRATUNKOWEGO</td>\n",
       "      <td>WINCENTEGO PSTROWSKIEGO 28B\\r10-602 OLSZTYN</td>\n",
       "      <td>89 512 15 56</td>\n",
       "    </tr>\n",
       "    <tr>\n",
       "      <th>14</th>\n",
       "      <td>WARMIŃSKO MAZURSKA STACJA\\rTRANSPORTU MEDYCZNE...</td>\n",
       "      <td>POLNA 15\\r10-059 OLSZTYN</td>\n",
       "      <td>89 512 15 56</td>\n",
       "    </tr>\n",
       "    <tr>\n",
       "      <th>15</th>\n",
       "      <td>NIEPUBLICZNY ZAKŁAD OPIEKI\\rZDROWOTNEJ \"ELMEDC...</td>\n",
       "      <td>JANA AMOSA KOMEŃSKIEGO 35\\r82-300 ELBLĄG</td>\n",
       "      <td>89 512 15 56</td>\n",
       "    </tr>\n",
       "    <tr>\n",
       "      <th>16</th>\n",
       "      <td>SZPITAL POWIATOWY IM. JANA PAWŁA II\\rW BARTOSZ...</td>\n",
       "      <td>KARDYNAŁA WYSZYŃSKIEGO 11\\r11-200 BARTOSZYCE</td>\n",
       "      <td>89 512 15 56</td>\n",
       "    </tr>\n",
       "    <tr>\n",
       "      <th>17</th>\n",
       "      <td>SZPITAL POWIATOWY IM. JANA PAWŁA II\\rW BARTOSZ...</td>\n",
       "      <td>KARDYNAŁA WYSZYŃSKIEGO 11\\r11-200 BARTOSZYCE</td>\n",
       "      <td>89 512 15 56</td>\n",
       "    </tr>\n",
       "    <tr>\n",
       "      <th>18</th>\n",
       "      <td>NaN</td>\n",
       "      <td>NaN</td>\n",
       "      <td>NaN</td>\n",
       "    </tr>\n",
       "    <tr>\n",
       "      <th>19</th>\n",
       "      <td>Wojewódzki Szpital Zespolony w Kielcach</td>\n",
       "      <td>Kielce, 25-736, ul. Grunwaldzka 45</td>\n",
       "      <td>41-367-13-01</td>\n",
       "    </tr>\n",
       "    <tr>\n",
       "      <th>20</th>\n",
       "      <td>Powiatowy Zakład Opieki Zdrowotnej w\\rStaracho...</td>\n",
       "      <td>Starachowice, 27-200, Radomska 70</td>\n",
       "      <td>41-273-91-13</td>\n",
       "    </tr>\n",
       "    <tr>\n",
       "      <th>21</th>\n",
       "      <td>Zespół Opieki Zdrowotnej w Busku-Zdroju</td>\n",
       "      <td>Busko-Zdrój, 28-100, ul Bohaterów\\rWarszawy 67</td>\n",
       "      <td>41-378-24-04 wewn. 337</td>\n",
       "    </tr>\n",
       "    <tr>\n",
       "      <th>22</th>\n",
       "      <td>Samodzielny Publiczny Zakład Opieki\\rZdrowotne...</td>\n",
       "      <td>Kielce, 25-375, Wojska Polskiego 51</td>\n",
       "      <td>41-349-35-00</td>\n",
       "    </tr>\n",
       "  </tbody>\n",
       "</table>\n",
       "</div>"
      ],
      "text/plain": [
       "index                                              nazwa  \\\n",
       "0      WIELOSPECJALISTYCZNY SZPITAL MIEJSKI IM. JÓZEF...   \n",
       "1      WOJEWÓDZKI SZPITAL ZESPOLONY IM. DR. ROMANA OS...   \n",
       "2      WOJEWÓDZKI SZPITAL ZESPOLONY IM.LUDWIKA PERZYN...   \n",
       "3        SZPITAL POWIATOWY IM. ROMANA DREWSA W CHODZIEŻY   \n",
       "4      SAMODZIELNY PUBLICZNY ZAKŁAD OPIEKI ZDROWOTNEJ...   \n",
       "5      SAMODZIELNY PUBLICZNY ZAKŁAD OPIEKI ZDROWOTNEJ...   \n",
       "6                 WOJEWÓDZKI SZPITAL ZESPOLONY W LESZNIE   \n",
       "7      WOJEWÓDZKA STACJA POGOTOWIA RATUNKOWEGO SP ZOZ...   \n",
       "8                  SZPITAL POWIATOWY W ŚREMIE SP. Z O.O.   \n",
       "9      WIELKOPOLSKIE CENTRUM RATOWNICTWA MEDYCZNEGO S...   \n",
       "10          SZPITAL MIEJSKI ŚW. JANA PAWŁA II W\\rELBLĄGU   \n",
       "11                   SZPITAL  W OSTRÓDZIE SPÓŁKA AKCYJNA   \n",
       "12     WOJEWÓDZKI SPECJALISTYCZNY SZPITAL\\rDZIECIĘCY ...   \n",
       "13              WOJEWÓDZKA STACJA POGOTOWIA\\rRATUNKOWEGO   \n",
       "14     WARMIŃSKO MAZURSKA STACJA\\rTRANSPORTU MEDYCZNE...   \n",
       "15     NIEPUBLICZNY ZAKŁAD OPIEKI\\rZDROWOTNEJ \"ELMEDC...   \n",
       "16     SZPITAL POWIATOWY IM. JANA PAWŁA II\\rW BARTOSZ...   \n",
       "17     SZPITAL POWIATOWY IM. JANA PAWŁA II\\rW BARTOSZ...   \n",
       "18                                                   NaN   \n",
       "19               Wojewódzki Szpital Zespolony w Kielcach   \n",
       "20     Powiatowy Zakład Opieki Zdrowotnej w\\rStaracho...   \n",
       "21               Zespół Opieki Zdrowotnej w Busku-Zdroju   \n",
       "22     Samodzielny Publiczny Zakład Opieki\\rZdrowotne...   \n",
       "\n",
       "index                                           adres                 telefon  \n",
       "0                    Poznań 61-285, ul. Szwajcarska 3           61 873 90 000  \n",
       "1                      Konin 62-504, ul. Szpitalna 45           63 240 43 000  \n",
       "2                     Kalisz 62-800, ul. Poznańska 79            62 765 13 56  \n",
       "3                     ŻEROMSKIEGO 29\\r64-800 CHODZIEŻ            67 282 92 21  \n",
       "4                          PODUCHOWNE 1\\r62-700 TUREK            63 280 55 08  \n",
       "5                           SZPITALNA 7\\r63-600 KĘPNO            62 782 73 09  \n",
       "6                           KIEPURY 45\\r64-100 LESZNO            65 525 31 13  \n",
       "7                          RYCERSKA 10\\r60-346 POZNAŃ            61 864 88 12  \n",
       "8                        CHEŁMOŃSKIEGO 1\\r63-100 ŚREM            61 281 54 43  \n",
       "9               KARD. S. WYSZYŃSKIEGO 1\\r62-510 KONIN            63 245 19 51  \n",
       "10     ELBLĄG, 82-300, UL. JANA AMOSA\\rKOMEŃSKIEGO 35            55 230 42 58  \n",
       "11        OSTRÓDA, 14-100, UL. WŁADYSŁAWA\\rJAGIEŁŁY 1             668 207 209  \n",
       "12               OLSZTYN, 10-651, UL. ŻOŁNIERSKA 18 A            89 539 34 21  \n",
       "13        WINCENTEGO PSTROWSKIEGO 28B\\r10-602 OLSZTYN            89 512 15 56  \n",
       "14                           POLNA 15\\r10-059 OLSZTYN            89 512 15 56  \n",
       "15           JANA AMOSA KOMEŃSKIEGO 35\\r82-300 ELBLĄG            89 512 15 56  \n",
       "16       KARDYNAŁA WYSZYŃSKIEGO 11\\r11-200 BARTOSZYCE            89 512 15 56  \n",
       "17       KARDYNAŁA WYSZYŃSKIEGO 11\\r11-200 BARTOSZYCE            89 512 15 56  \n",
       "18                                                NaN                     NaN  \n",
       "19                 Kielce, 25-736, ul. Grunwaldzka 45            41-367-13-01  \n",
       "20                  Starachowice, 27-200, Radomska 70            41-273-91-13  \n",
       "21     Busko-Zdrój, 28-100, ul Bohaterów\\rWarszawy 67  41-378-24-04 wewn. 337  \n",
       "22                Kielce, 25-375, Wojska Polskiego 51            41-349-35-00  "
      ]
     },
     "execution_count": 15,
     "metadata": {},
     "output_type": "execute_result"
    }
   ],
   "source": [
    "df"
   ]
  },
  {
   "cell_type": "code",
   "execution_count": 16,
   "metadata": {},
   "outputs": [],
   "source": [
    "df.nazwa = df.nazwa.str.upper()"
   ]
  },
  {
   "cell_type": "code",
   "execution_count": 17,
   "metadata": {},
   "outputs": [],
   "source": [
    "df.adres = df.adres.str.upper()"
   ]
  },
  {
   "cell_type": "code",
   "execution_count": 18,
   "metadata": {},
   "outputs": [],
   "source": [
    "df.nazwa = df.nazwa.str.replace('\\r', ' ')"
   ]
  },
  {
   "cell_type": "code",
   "execution_count": 19,
   "metadata": {},
   "outputs": [],
   "source": [
    "df.adres = df.adres.str.replace('\\r', ' ')"
   ]
  },
  {
   "cell_type": "code",
   "execution_count": 25,
   "metadata": {},
   "outputs": [
    {
     "data": {
      "text/plain": [
       "False"
      ]
     },
     "execution_count": 25,
     "metadata": {},
     "output_type": "execute_result"
    }
   ],
   "source": [
    "df.isnull().values.any()"
   ]
  },
  {
   "cell_type": "code",
   "execution_count": 24,
   "metadata": {},
   "outputs": [],
   "source": [
    "df = df.drop(index=18)"
   ]
  },
  {
   "cell_type": "code",
   "execution_count": 27,
   "metadata": {},
   "outputs": [],
   "source": [
    "os.chdir('..')"
   ]
  },
  {
   "cell_type": "code",
   "execution_count": 28,
   "metadata": {},
   "outputs": [],
   "source": [
    "df_old = pd.read_csv('df.csv')"
   ]
  },
  {
   "cell_type": "code",
   "execution_count": 30,
   "metadata": {},
   "outputs": [],
   "source": [
    "df = pd.concat([df,df_old])"
   ]
  },
  {
   "cell_type": "code",
   "execution_count": null,
   "metadata": {},
   "outputs": [],
   "source": [
    "# df.to_csv('df.csv')"
   ]
  },
  {
   "cell_type": "code",
   "execution_count": 33,
   "metadata": {},
   "outputs": [],
   "source": [
    "df.reset_index(inplace=True)"
   ]
  },
  {
   "cell_type": "code",
   "execution_count": 38,
   "metadata": {},
   "outputs": [],
   "source": [
    "df = df.drop(columns=['index','Unnamed: 0'])"
   ]
  },
  {
   "cell_type": "code",
   "execution_count": 40,
   "metadata": {},
   "outputs": [],
   "source": [
    "df.to_csv('df.csv')"
   ]
  },
  {
   "cell_type": "code",
   "execution_count": 65,
   "metadata": {},
   "outputs": [],
   "source": [
    "tables = [x for x in complex_tables if len(x)!=0]"
   ]
  },
  {
   "cell_type": "code",
   "execution_count": 66,
   "metadata": {},
   "outputs": [
    {
     "data": {
      "text/html": [
       "<div>\n",
       "<style scoped>\n",
       "    .dataframe tbody tr th:only-of-type {\n",
       "        vertical-align: middle;\n",
       "    }\n",
       "\n",
       "    .dataframe tbody tr th {\n",
       "        vertical-align: top;\n",
       "    }\n",
       "\n",
       "    .dataframe thead th {\n",
       "        text-align: right;\n",
       "    }\n",
       "</style>\n",
       "<table border=\"1\" class=\"dataframe\">\n",
       "  <thead>\n",
       "    <tr style=\"text-align: right;\">\n",
       "      <th>2</th>\n",
       "      <th>Podmiot wykonujący działalność leczniczą 1</th>\n",
       "      <th>NaN</th>\n",
       "    </tr>\n",
       "  </thead>\n",
       "  <tbody>\n",
       "    <tr>\n",
       "      <th>0</th>\n",
       "      <td>Wykaz podmiotów udzielających świadczeń opieki...</td>\n",
       "      <td>NaN</td>\n",
       "    </tr>\n",
       "    <tr>\n",
       "      <th>1</th>\n",
       "      <td>NaN</td>\n",
       "      <td>NaN</td>\n",
       "    </tr>\n",
       "    <tr>\n",
       "      <th>2</th>\n",
       "      <td>Podmiot wykonujący działalność leczniczą 1</td>\n",
       "      <td>NaN</td>\n",
       "    </tr>\n",
       "    <tr>\n",
       "      <th>3</th>\n",
       "      <td>nazwa:</td>\n",
       "      <td>SZPITAL KLINICZNY IM. KAROLA JONSCHERA UNIWERS...</td>\n",
       "    </tr>\n",
       "    <tr>\n",
       "      <th>4</th>\n",
       "      <td>adres: miejscowość/ kod pocztowy/ ulica i nr domu</td>\n",
       "      <td>Poznań 60-572, ul. Szpitalna 27/33</td>\n",
       "    </tr>\n",
       "    <tr>\n",
       "      <th>5</th>\n",
       "      <td>telefon/ telefony:</td>\n",
       "      <td>61 849 12 00</td>\n",
       "    </tr>\n",
       "    <tr>\n",
       "      <th>6</th>\n",
       "      <td>identyfikator REGON</td>\n",
       "      <td>000288863</td>\n",
       "    </tr>\n",
       "    <tr>\n",
       "      <th>7</th>\n",
       "      <td>Miejsce udzielania świadczeń 1 *</td>\n",
       "      <td>NaN</td>\n",
       "    </tr>\n",
       "    <tr>\n",
       "      <th>8</th>\n",
       "      <td>nazwa:</td>\n",
       "      <td>Oddział VIII Chorób Zakaźnych i Neurologii, Pe...</td>\n",
       "    </tr>\n",
       "    <tr>\n",
       "      <th>9</th>\n",
       "      <td>adres: miejscowość/ kod pocztowy/ ulica i nr domu</td>\n",
       "      <td>Poznań 60-572, ul. Szpitalna 27/33</td>\n",
       "    </tr>\n",
       "    <tr>\n",
       "      <th>10</th>\n",
       "      <td>telefon/ telefony</td>\n",
       "      <td>504 907 994</td>\n",
       "    </tr>\n",
       "  </tbody>\n",
       "</table>\n",
       "</div>"
      ],
      "text/plain": [
       "2          Podmiot wykonujący działalność leczniczą 1  \\\n",
       "0   Wykaz podmiotów udzielających świadczeń opieki...   \n",
       "1                                                 NaN   \n",
       "2          Podmiot wykonujący działalność leczniczą 1   \n",
       "3                                              nazwa:   \n",
       "4   adres: miejscowość/ kod pocztowy/ ulica i nr domu   \n",
       "5                                  telefon/ telefony:   \n",
       "6                                 identyfikator REGON   \n",
       "7                    Miejsce udzielania świadczeń 1 *   \n",
       "8                                              nazwa:   \n",
       "9   adres: miejscowość/ kod pocztowy/ ulica i nr domu   \n",
       "10                                  telefon/ telefony   \n",
       "\n",
       "2                                                 NaN  \n",
       "0                                                 NaN  \n",
       "1                                                 NaN  \n",
       "2                                                 NaN  \n",
       "3   SZPITAL KLINICZNY IM. KAROLA JONSCHERA UNIWERS...  \n",
       "4                  Poznań 60-572, ul. Szpitalna 27/33  \n",
       "5                                        61 849 12 00  \n",
       "6                                           000288863  \n",
       "7                                                 NaN  \n",
       "8   Oddział VIII Chorób Zakaźnych i Neurologii, Pe...  \n",
       "9                  Poznań 60-572, ul. Szpitalna 27/33  \n",
       "10                                        504 907 994  "
      ]
     },
     "execution_count": 66,
     "metadata": {},
     "output_type": "execute_result"
    }
   ],
   "source": [
    "tables[0]"
   ]
  },
  {
   "cell_type": "code",
   "execution_count": 67,
   "metadata": {},
   "outputs": [],
   "source": [
    "tables[0].columns = tables[0].loc[2]"
   ]
  },
  {
   "cell_type": "code",
   "execution_count": 68,
   "metadata": {},
   "outputs": [],
   "source": [
    "tables[0] = tables[0][3:6]"
   ]
  },
  {
   "cell_type": "code",
   "execution_count": 69,
   "metadata": {},
   "outputs": [
    {
     "name": "stderr",
     "output_type": "stream",
     "text": [
      "/home/ms/.local/lib/python3.6/site-packages/pandas/core/frame.py:3997: SettingWithCopyWarning: \n",
      "A value is trying to be set on a copy of a slice from a DataFrame\n",
      "\n",
      "See the caveats in the documentation: https://pandas.pydata.org/pandas-docs/stable/user_guide/indexing.html#returning-a-view-versus-a-copy\n",
      "  errors=errors,\n"
     ]
    }
   ],
   "source": [
    "tables[0] = transform(tables[0])"
   ]
  },
  {
   "cell_type": "code",
   "execution_count": 70,
   "metadata": {},
   "outputs": [
    {
     "data": {
      "text/html": [
       "<div>\n",
       "<style scoped>\n",
       "    .dataframe tbody tr th:only-of-type {\n",
       "        vertical-align: middle;\n",
       "    }\n",
       "\n",
       "    .dataframe tbody tr th {\n",
       "        vertical-align: top;\n",
       "    }\n",
       "\n",
       "    .dataframe thead th {\n",
       "        text-align: right;\n",
       "    }\n",
       "</style>\n",
       "<table border=\"1\" class=\"dataframe\">\n",
       "  <thead>\n",
       "    <tr style=\"text-align: right;\">\n",
       "      <th>index</th>\n",
       "      <th>nazwa</th>\n",
       "      <th>adres</th>\n",
       "      <th>telefon</th>\n",
       "    </tr>\n",
       "  </thead>\n",
       "  <tbody>\n",
       "    <tr>\n",
       "      <th>2</th>\n",
       "      <td>SZPITAL KLINICZNY IM. KAROLA JONSCHERA UNIWERS...</td>\n",
       "      <td>Poznań 60-572, ul. Szpitalna 27/33</td>\n",
       "      <td>61 849 12 00</td>\n",
       "    </tr>\n",
       "  </tbody>\n",
       "</table>\n",
       "</div>"
      ],
      "text/plain": [
       "index                                              nazwa  \\\n",
       "2      SZPITAL KLINICZNY IM. KAROLA JONSCHERA UNIWERS...   \n",
       "\n",
       "index                               adres       telefon  \n",
       "2      Poznań 60-572, ul. Szpitalna 27/33  61 849 12 00  "
      ]
     },
     "execution_count": 70,
     "metadata": {},
     "output_type": "execute_result"
    }
   ],
   "source": [
    "tables[0]"
   ]
  },
  {
   "cell_type": "code",
   "execution_count": 102,
   "metadata": {},
   "outputs": [],
   "source": [
    "tables[2].columns = [1,2]"
   ]
  },
  {
   "cell_type": "code",
   "execution_count": 107,
   "metadata": {},
   "outputs": [
    {
     "name": "stderr",
     "output_type": "stream",
     "text": [
      "/home/ms/.local/lib/python3.6/site-packages/pandas/core/frame.py:3997: SettingWithCopyWarning: \n",
      "A value is trying to be set on a copy of a slice from a DataFrame\n",
      "\n",
      "See the caveats in the documentation: https://pandas.pydata.org/pandas-docs/stable/user_guide/indexing.html#returning-a-view-versus-a-copy\n",
      "  errors=errors,\n"
     ]
    },
    {
     "data": {
      "text/html": [
       "<div>\n",
       "<style scoped>\n",
       "    .dataframe tbody tr th:only-of-type {\n",
       "        vertical-align: middle;\n",
       "    }\n",
       "\n",
       "    .dataframe tbody tr th {\n",
       "        vertical-align: top;\n",
       "    }\n",
       "\n",
       "    .dataframe thead th {\n",
       "        text-align: right;\n",
       "    }\n",
       "</style>\n",
       "<table border=\"1\" class=\"dataframe\">\n",
       "  <thead>\n",
       "    <tr style=\"text-align: right;\">\n",
       "      <th>index</th>\n",
       "      <th>nazwa</th>\n",
       "      <th>adres</th>\n",
       "      <th>telefon</th>\n",
       "    </tr>\n",
       "  </thead>\n",
       "  <tbody>\n",
       "    <tr>\n",
       "      <th>2</th>\n",
       "      <td>KRÓLEWIECKA 146\\r82-300 ELBLĄG</td>\n",
       "      <td>89 512 15 56</td>\n",
       "      <td>WOJEWÓDZKI SZPITAL ZESPOLONY W ELBLĄGU</td>\n",
       "    </tr>\n",
       "  </tbody>\n",
       "</table>\n",
       "</div>"
      ],
      "text/plain": [
       "index                           nazwa         adres  \\\n",
       "2      KRÓLEWIECKA 146\\r82-300 ELBLĄG  89 512 15 56   \n",
       "\n",
       "index                                 telefon  \n",
       "2      WOJEWÓDZKI SZPITAL ZESPOLONY W ELBLĄGU  "
      ]
     },
     "execution_count": 107,
     "metadata": {},
     "output_type": "execute_result"
    }
   ],
   "source": [
    "transform(tables[2])"
   ]
  },
  {
   "cell_type": "code",
   "execution_count": 108,
   "metadata": {},
   "outputs": [
    {
     "data": {
      "text/html": [
       "<div>\n",
       "<style scoped>\n",
       "    .dataframe tbody tr th:only-of-type {\n",
       "        vertical-align: middle;\n",
       "    }\n",
       "\n",
       "    .dataframe tbody tr th {\n",
       "        vertical-align: top;\n",
       "    }\n",
       "\n",
       "    .dataframe thead th {\n",
       "        text-align: right;\n",
       "    }\n",
       "</style>\n",
       "<table border=\"1\" class=\"dataframe\">\n",
       "  <thead>\n",
       "    <tr style=\"text-align: right;\">\n",
       "      <th></th>\n",
       "      <th>2</th>\n",
       "    </tr>\n",
       "    <tr>\n",
       "      <th>index</th>\n",
       "      <th></th>\n",
       "    </tr>\n",
       "  </thead>\n",
       "  <tbody>\n",
       "    <tr>\n",
       "      <th>nazwa</th>\n",
       "      <td>KRÓLEWIECKA 146\\r82-300 ELBLĄG</td>\n",
       "    </tr>\n",
       "    <tr>\n",
       "      <th>adres</th>\n",
       "      <td>89 512 15 56</td>\n",
       "    </tr>\n",
       "    <tr>\n",
       "      <th>telefon</th>\n",
       "      <td>WOJEWÓDZKI SZPITAL ZESPOLONY W ELBLĄGU</td>\n",
       "    </tr>\n",
       "  </tbody>\n",
       "</table>\n",
       "</div>"
      ],
      "text/plain": [
       "                                              2\n",
       "index                                          \n",
       "nazwa            KRÓLEWIECKA 146\\r82-300 ELBLĄG\n",
       "adres                              89 512 15 56\n",
       "telefon  WOJEWÓDZKI SZPITAL ZESPOLONY W ELBLĄGU"
      ]
     },
     "execution_count": 108,
     "metadata": {},
     "output_type": "execute_result"
    }
   ],
   "source": [
    "tables[2]"
   ]
  },
  {
   "cell_type": "code",
   "execution_count": 110,
   "metadata": {},
   "outputs": [
    {
     "name": "stderr",
     "output_type": "stream",
     "text": [
      "/usr/lib/python3/dist-packages/ipykernel_launcher.py:1: SettingWithCopyWarning: \n",
      "A value is trying to be set on a copy of a slice from a DataFrame\n",
      "\n",
      "See the caveats in the documentation: https://pandas.pydata.org/pandas-docs/stable/user_guide/indexing.html#returning-a-view-versus-a-copy\n",
      "  \"\"\"Entry point for launching an IPython kernel.\n"
     ]
    }
   ],
   "source": [
    "tables[2][2].loc['nazwa'] = 'WOJEWÓDZKI SZPITAL ZESPOLONY W ELBLĄGU'"
   ]
  },
  {
   "cell_type": "code",
   "execution_count": 111,
   "metadata": {},
   "outputs": [
    {
     "name": "stderr",
     "output_type": "stream",
     "text": [
      "/usr/lib/python3/dist-packages/ipykernel_launcher.py:1: SettingWithCopyWarning: \n",
      "A value is trying to be set on a copy of a slice from a DataFrame\n",
      "\n",
      "See the caveats in the documentation: https://pandas.pydata.org/pandas-docs/stable/user_guide/indexing.html#returning-a-view-versus-a-copy\n",
      "  \"\"\"Entry point for launching an IPython kernel.\n"
     ]
    }
   ],
   "source": [
    "tables[2][2].loc['adres'] = 'KRÓLEWIECKA 146 82-300 ELBLĄG'"
   ]
  },
  {
   "cell_type": "code",
   "execution_count": 112,
   "metadata": {},
   "outputs": [
    {
     "name": "stderr",
     "output_type": "stream",
     "text": [
      "/usr/lib/python3/dist-packages/ipykernel_launcher.py:1: SettingWithCopyWarning: \n",
      "A value is trying to be set on a copy of a slice from a DataFrame\n",
      "\n",
      "See the caveats in the documentation: https://pandas.pydata.org/pandas-docs/stable/user_guide/indexing.html#returning-a-view-versus-a-copy\n",
      "  \"\"\"Entry point for launching an IPython kernel.\n"
     ]
    }
   ],
   "source": [
    "tables[2][2].loc['telefon'] = '89 512 15 56'"
   ]
  },
  {
   "cell_type": "code",
   "execution_count": 115,
   "metadata": {},
   "outputs": [
    {
     "data": {
      "text/html": [
       "<div>\n",
       "<style scoped>\n",
       "    .dataframe tbody tr th:only-of-type {\n",
       "        vertical-align: middle;\n",
       "    }\n",
       "\n",
       "    .dataframe tbody tr th {\n",
       "        vertical-align: top;\n",
       "    }\n",
       "\n",
       "    .dataframe thead th {\n",
       "        text-align: right;\n",
       "    }\n",
       "</style>\n",
       "<table border=\"1\" class=\"dataframe\">\n",
       "  <thead>\n",
       "    <tr style=\"text-align: right;\">\n",
       "      <th>index</th>\n",
       "      <th>nazwa</th>\n",
       "      <th>adres</th>\n",
       "      <th>telefon</th>\n",
       "    </tr>\n",
       "  </thead>\n",
       "  <tbody>\n",
       "    <tr>\n",
       "      <th>2</th>\n",
       "      <td>WOJEWÓDZKI SZPITAL ZESPOLONY W ELBLĄGU</td>\n",
       "      <td>KRÓLEWIECKA 146 82-300 ELBLĄG</td>\n",
       "      <td>89 512 15 56</td>\n",
       "    </tr>\n",
       "  </tbody>\n",
       "</table>\n",
       "</div>"
      ],
      "text/plain": [
       "index                                   nazwa                          adres  \\\n",
       "2      WOJEWÓDZKI SZPITAL ZESPOLONY W ELBLĄGU  KRÓLEWIECKA 146 82-300 ELBLĄG   \n",
       "\n",
       "index       telefon  \n",
       "2      89 512 15 56  "
      ]
     },
     "execution_count": 115,
     "metadata": {},
     "output_type": "execute_result"
    }
   ],
   "source": [
    "tables[2].transpose()"
   ]
  },
  {
   "cell_type": "code",
   "execution_count": 117,
   "metadata": {},
   "outputs": [],
   "source": [
    "tables[2] = tables[2].transpose()"
   ]
  },
  {
   "cell_type": "code",
   "execution_count": 125,
   "metadata": {},
   "outputs": [
    {
     "name": "stderr",
     "output_type": "stream",
     "text": [
      "/home/ms/.local/lib/python3.6/site-packages/pandas/core/frame.py:3997: SettingWithCopyWarning: \n",
      "A value is trying to be set on a copy of a slice from a DataFrame\n",
      "\n",
      "See the caveats in the documentation: https://pandas.pydata.org/pandas-docs/stable/user_guide/indexing.html#returning-a-view-versus-a-copy\n",
      "  errors=errors,\n"
     ]
    }
   ],
   "source": [
    "tables[3] = transform(tables[3].loc[:2])"
   ]
  },
  {
   "cell_type": "code",
   "execution_count": 126,
   "metadata": {},
   "outputs": [
    {
     "data": {
      "text/html": [
       "<div>\n",
       "<style scoped>\n",
       "    .dataframe tbody tr th:only-of-type {\n",
       "        vertical-align: middle;\n",
       "    }\n",
       "\n",
       "    .dataframe tbody tr th {\n",
       "        vertical-align: top;\n",
       "    }\n",
       "\n",
       "    .dataframe thead th {\n",
       "        text-align: right;\n",
       "    }\n",
       "</style>\n",
       "<table border=\"1\" class=\"dataframe\">\n",
       "  <thead>\n",
       "    <tr style=\"text-align: right;\">\n",
       "      <th>index</th>\n",
       "      <th>nazwa</th>\n",
       "      <th>adres</th>\n",
       "      <th>telefon</th>\n",
       "    </tr>\n",
       "  </thead>\n",
       "  <tbody>\n",
       "    <tr>\n",
       "      <th>2</th>\n",
       "      <td>SAMODZIELNY PUBLICZNY WOJEWÓDZKI SZPITAL ZESPO...</td>\n",
       "      <td>71-455 SZCZECIN, UL. ARKOŃSKA 4</td>\n",
       "      <td>91-813-90-45/91-813-90-09/91-813-93-30</td>\n",
       "    </tr>\n",
       "  </tbody>\n",
       "</table>\n",
       "</div>"
      ],
      "text/plain": [
       "index                                              nazwa  \\\n",
       "2      SAMODZIELNY PUBLICZNY WOJEWÓDZKI SZPITAL ZESPO...   \n",
       "\n",
       "index                            adres                                 telefon  \n",
       "2      71-455 SZCZECIN, UL. ARKOŃSKA 4  91-813-90-45/91-813-90-09/91-813-93-30  "
      ]
     },
     "execution_count": 126,
     "metadata": {},
     "output_type": "execute_result"
    }
   ],
   "source": [
    "tables[3]"
   ]
  },
  {
   "cell_type": "code",
   "execution_count": 131,
   "metadata": {},
   "outputs": [
    {
     "name": "stderr",
     "output_type": "stream",
     "text": [
      "/home/ms/.local/lib/python3.6/site-packages/pandas/core/frame.py:3997: SettingWithCopyWarning: \n",
      "A value is trying to be set on a copy of a slice from a DataFrame\n",
      "\n",
      "See the caveats in the documentation: https://pandas.pydata.org/pandas-docs/stable/user_guide/indexing.html#returning-a-view-versus-a-copy\n",
      "  errors=errors,\n"
     ]
    }
   ],
   "source": [
    "tables[4] = transform(tables[4][:3])"
   ]
  },
  {
   "cell_type": "code",
   "execution_count": 140,
   "metadata": {},
   "outputs": [],
   "source": [
    "tables[5] =  transform(tables[5][:2])"
   ]
  },
  {
   "cell_type": "code",
   "execution_count": 141,
   "metadata": {},
   "outputs": [],
   "source": [
    "tables[5]"
   ]
  },
  {
   "cell_type": "code",
   "execution_count": 142,
   "metadata": {},
   "outputs": [
    {
     "data": {
      "text/plain": [
       "11"
      ]
     },
     "execution_count": 142,
     "metadata": {},
     "output_type": "execute_result"
    }
   ],
   "source": [
    "len(tables)"
   ]
  },
  {
   "cell_type": "code",
   "execution_count": 150,
   "metadata": {},
   "outputs": [
    {
     "name": "stderr",
     "output_type": "stream",
     "text": [
      "/home/ms/.local/lib/python3.6/site-packages/pandas/core/frame.py:3997: SettingWithCopyWarning: \n",
      "A value is trying to be set on a copy of a slice from a DataFrame\n",
      "\n",
      "See the caveats in the documentation: https://pandas.pydata.org/pandas-docs/stable/user_guide/indexing.html#returning-a-view-versus-a-copy\n",
      "  errors=errors,\n"
     ]
    }
   ],
   "source": [
    "tables[7] = transform(tables[7][:3])"
   ]
  },
  {
   "cell_type": "code",
   "execution_count": 151,
   "metadata": {},
   "outputs": [
    {
     "data": {
      "text/html": [
       "<div>\n",
       "<style scoped>\n",
       "    .dataframe tbody tr th:only-of-type {\n",
       "        vertical-align: middle;\n",
       "    }\n",
       "\n",
       "    .dataframe tbody tr th {\n",
       "        vertical-align: top;\n",
       "    }\n",
       "\n",
       "    .dataframe thead th {\n",
       "        text-align: right;\n",
       "    }\n",
       "</style>\n",
       "<table border=\"1\" class=\"dataframe\">\n",
       "  <thead>\n",
       "    <tr style=\"text-align: right;\">\n",
       "      <th>index</th>\n",
       "      <th>nazwa</th>\n",
       "      <th>adres</th>\n",
       "      <th>telefon</th>\n",
       "    </tr>\n",
       "  </thead>\n",
       "  <tbody>\n",
       "    <tr>\n",
       "      <th>2</th>\n",
       "      <td>SAMODZIELNY PUBLICZNY SPECJALISTYCZNY ZOZ \"ZDR...</td>\n",
       "      <td>70-780 SZCZECIN, UL. MĄCZNA 4</td>\n",
       "      <td>91-880-62-50/91-880-64-80</td>\n",
       "    </tr>\n",
       "  </tbody>\n",
       "</table>\n",
       "</div>"
      ],
      "text/plain": [
       "index                                              nazwa  \\\n",
       "2      SAMODZIELNY PUBLICZNY SPECJALISTYCZNY ZOZ \"ZDR...   \n",
       "\n",
       "index                          adres                    telefon  \n",
       "2      70-780 SZCZECIN, UL. MĄCZNA 4  91-880-62-50/91-880-64-80  "
      ]
     },
     "execution_count": 151,
     "metadata": {},
     "output_type": "execute_result"
    }
   ],
   "source": [
    "tables[7]"
   ]
  },
  {
   "cell_type": "code",
   "execution_count": 153,
   "metadata": {},
   "outputs": [
    {
     "name": "stderr",
     "output_type": "stream",
     "text": [
      "/home/ms/.local/lib/python3.6/site-packages/pandas/core/frame.py:3997: SettingWithCopyWarning: \n",
      "A value is trying to be set on a copy of a slice from a DataFrame\n",
      "\n",
      "See the caveats in the documentation: https://pandas.pydata.org/pandas-docs/stable/user_guide/indexing.html#returning-a-view-versus-a-copy\n",
      "  errors=errors,\n"
     ]
    }
   ],
   "source": [
    "tables[8] = transform(tables[8][:3])"
   ]
  },
  {
   "cell_type": "code",
   "execution_count": 155,
   "metadata": {},
   "outputs": [
    {
     "name": "stderr",
     "output_type": "stream",
     "text": [
      "/home/ms/.local/lib/python3.6/site-packages/pandas/core/frame.py:3997: SettingWithCopyWarning: \n",
      "A value is trying to be set on a copy of a slice from a DataFrame\n",
      "\n",
      "See the caveats in the documentation: https://pandas.pydata.org/pandas-docs/stable/user_guide/indexing.html#returning-a-view-versus-a-copy\n",
      "  errors=errors,\n"
     ]
    }
   ],
   "source": [
    "tables[9] = transform(tables[9][:3])"
   ]
  },
  {
   "cell_type": "code",
   "execution_count": 162,
   "metadata": {},
   "outputs": [],
   "source": [
    "tables_2 = []\n",
    "for table in tables:\n",
    "    try:\n",
    "        if len(table)==1:\n",
    "            tables_2.append(table)\n",
    "    except TypeError:\n",
    "        pass"
   ]
  },
  {
   "cell_type": "code",
   "execution_count": 163,
   "metadata": {},
   "outputs": [
    {
     "data": {
      "text/plain": [
       "7"
      ]
     },
     "execution_count": 163,
     "metadata": {},
     "output_type": "execute_result"
    }
   ],
   "source": [
    "len(tables_2)"
   ]
  },
  {
   "cell_type": "code",
   "execution_count": 164,
   "metadata": {},
   "outputs": [],
   "source": [
    "df2 = pd.concat(tables_2)"
   ]
  },
  {
   "cell_type": "code",
   "execution_count": 167,
   "metadata": {},
   "outputs": [],
   "source": [
    "df2.reset_index(inplace=True)"
   ]
  },
  {
   "cell_type": "code",
   "execution_count": 170,
   "metadata": {},
   "outputs": [],
   "source": [
    "df2 = df2.drop(columns='index')"
   ]
  },
  {
   "cell_type": "code",
   "execution_count": 171,
   "metadata": {},
   "outputs": [],
   "source": [
    "frame = pd.concat([df,df2], ignore_index=True)"
   ]
  },
  {
   "cell_type": "code",
   "execution_count": 172,
   "metadata": {},
   "outputs": [
    {
     "data": {
      "text/html": [
       "<div>\n",
       "<style scoped>\n",
       "    .dataframe tbody tr th:only-of-type {\n",
       "        vertical-align: middle;\n",
       "    }\n",
       "\n",
       "    .dataframe tbody tr th {\n",
       "        vertical-align: top;\n",
       "    }\n",
       "\n",
       "    .dataframe thead th {\n",
       "        text-align: right;\n",
       "    }\n",
       "</style>\n",
       "<table border=\"1\" class=\"dataframe\">\n",
       "  <thead>\n",
       "    <tr style=\"text-align: right;\">\n",
       "      <th>index</th>\n",
       "      <th>nazwa</th>\n",
       "      <th>adres</th>\n",
       "      <th>telefon</th>\n",
       "    </tr>\n",
       "  </thead>\n",
       "  <tbody>\n",
       "    <tr>\n",
       "      <th>0</th>\n",
       "      <td>WIELOSPECJALISTYCZNY SZPITAL MIEJSKI IM. JÓZEF...</td>\n",
       "      <td>POZNAŃ 61-285, UL. SZWAJCARSKA 3</td>\n",
       "      <td>61 873 90 000</td>\n",
       "    </tr>\n",
       "    <tr>\n",
       "      <th>1</th>\n",
       "      <td>WOJEWÓDZKI SZPITAL ZESPOLONY IM. DR. ROMANA OS...</td>\n",
       "      <td>KONIN 62-504, UL. SZPITALNA 45</td>\n",
       "      <td>63 240 43 000</td>\n",
       "    </tr>\n",
       "    <tr>\n",
       "      <th>2</th>\n",
       "      <td>WOJEWÓDZKI SZPITAL ZESPOLONY IM.LUDWIKA PERZYN...</td>\n",
       "      <td>KALISZ 62-800, UL. POZNAŃSKA 79</td>\n",
       "      <td>62 765 13 56</td>\n",
       "    </tr>\n",
       "    <tr>\n",
       "      <th>3</th>\n",
       "      <td>SZPITAL POWIATOWY IM. ROMANA DREWSA W CHODZIEŻY</td>\n",
       "      <td>ŻEROMSKIEGO 29 64-800 CHODZIEŻ</td>\n",
       "      <td>67 282 92 21</td>\n",
       "    </tr>\n",
       "    <tr>\n",
       "      <th>4</th>\n",
       "      <td>SAMODZIELNY PUBLICZNY ZAKŁAD OPIEKI ZDROWOTNEJ...</td>\n",
       "      <td>PODUCHOWNE 1 62-700 TUREK</td>\n",
       "      <td>63 280 55 08</td>\n",
       "    </tr>\n",
       "    <tr>\n",
       "      <th>...</th>\n",
       "      <td>...</td>\n",
       "      <td>...</td>\n",
       "      <td>...</td>\n",
       "    </tr>\n",
       "    <tr>\n",
       "      <th>157</th>\n",
       "      <td>SAMODZIELNY PUBLICZNY WOJEWÓDZKI SZPITAL ZESPO...</td>\n",
       "      <td>71-455 SZCZECIN, UL. ARKOŃSKA 4</td>\n",
       "      <td>91-813-90-45/91-813-90-09/91-813-93-30</td>\n",
       "    </tr>\n",
       "    <tr>\n",
       "      <th>158</th>\n",
       "      <td>SZPITAL WOJEWÓDZKI IM. MIKOŁAJA KOPERNIKA W KO...</td>\n",
       "      <td>75-581 KOSZALIN, UL. CHAŁUBIŃSKIEGO 7</td>\n",
       "      <td>94-348-84-00/94-348-82-99</td>\n",
       "    </tr>\n",
       "    <tr>\n",
       "      <th>159</th>\n",
       "      <td>SAMODZIELNY PUBLICZNY SPECJALISTYCZNY ZOZ \"ZDR...</td>\n",
       "      <td>70-780 SZCZECIN, UL. MĄCZNA 4</td>\n",
       "      <td>91-880-62-50/91-880-64-80</td>\n",
       "    </tr>\n",
       "    <tr>\n",
       "      <th>160</th>\n",
       "      <td>ZESPÓŁ GRUŹLICY I CHORÓB PŁUC</td>\n",
       "      <td>75-252 KOSZALIN, UL. NIEPODLEGŁOŚCI 44-48</td>\n",
       "      <td>94-342-20-51/94-342-33-39</td>\n",
       "    </tr>\n",
       "    <tr>\n",
       "      <th>161</th>\n",
       "      <td>WOJEWÓDZKA STACJA POGOTOWIA RATUNKOWEGO</td>\n",
       "      <td>71-011 SZCZECIN, UL. MIESZKA I  33</td>\n",
       "      <td>91-433-38-01/91-433-57-54</td>\n",
       "    </tr>\n",
       "  </tbody>\n",
       "</table>\n",
       "<p>162 rows × 3 columns</p>\n",
       "</div>"
      ],
      "text/plain": [
       "index                                              nazwa  \\\n",
       "0      WIELOSPECJALISTYCZNY SZPITAL MIEJSKI IM. JÓZEF...   \n",
       "1      WOJEWÓDZKI SZPITAL ZESPOLONY IM. DR. ROMANA OS...   \n",
       "2      WOJEWÓDZKI SZPITAL ZESPOLONY IM.LUDWIKA PERZYN...   \n",
       "3        SZPITAL POWIATOWY IM. ROMANA DREWSA W CHODZIEŻY   \n",
       "4      SAMODZIELNY PUBLICZNY ZAKŁAD OPIEKI ZDROWOTNEJ...   \n",
       "..                                                   ...   \n",
       "157    SAMODZIELNY PUBLICZNY WOJEWÓDZKI SZPITAL ZESPO...   \n",
       "158    SZPITAL WOJEWÓDZKI IM. MIKOŁAJA KOPERNIKA W KO...   \n",
       "159    SAMODZIELNY PUBLICZNY SPECJALISTYCZNY ZOZ \"ZDR...   \n",
       "160                        ZESPÓŁ GRUŹLICY I CHORÓB PŁUC   \n",
       "161              WOJEWÓDZKA STACJA POGOTOWIA RATUNKOWEGO   \n",
       "\n",
       "index                                      adres  \\\n",
       "0               POZNAŃ 61-285, UL. SZWAJCARSKA 3   \n",
       "1                 KONIN 62-504, UL. SZPITALNA 45   \n",
       "2                KALISZ 62-800, UL. POZNAŃSKA 79   \n",
       "3                 ŻEROMSKIEGO 29 64-800 CHODZIEŻ   \n",
       "4                      PODUCHOWNE 1 62-700 TUREK   \n",
       "..                                           ...   \n",
       "157              71-455 SZCZECIN, UL. ARKOŃSKA 4   \n",
       "158        75-581 KOSZALIN, UL. CHAŁUBIŃSKIEGO 7   \n",
       "159                70-780 SZCZECIN, UL. MĄCZNA 4   \n",
       "160    75-252 KOSZALIN, UL. NIEPODLEGŁOŚCI 44-48   \n",
       "161           71-011 SZCZECIN, UL. MIESZKA I  33   \n",
       "\n",
       "index                                 telefon  \n",
       "0                               61 873 90 000  \n",
       "1                               63 240 43 000  \n",
       "2                                62 765 13 56  \n",
       "3                                67 282 92 21  \n",
       "4                                63 280 55 08  \n",
       "..                                        ...  \n",
       "157    91-813-90-45/91-813-90-09/91-813-93-30  \n",
       "158                 94-348-84-00/94-348-82-99  \n",
       "159                 91-880-62-50/91-880-64-80  \n",
       "160                 94-342-20-51/94-342-33-39  \n",
       "161                 91-433-38-01/91-433-57-54  \n",
       "\n",
       "[162 rows x 3 columns]"
      ]
     },
     "execution_count": 172,
     "metadata": {},
     "output_type": "execute_result"
    }
   ],
   "source": [
    "frame"
   ]
  },
  {
   "cell_type": "code",
   "execution_count": 173,
   "metadata": {},
   "outputs": [],
   "source": [
    "frame.to_csv('df_update.csv')"
   ]
  },
  {
   "cell_type": "code",
   "execution_count": null,
   "metadata": {},
   "outputs": [],
   "source": []
  }
 ],
 "metadata": {
  "kernelspec": {
   "display_name": "Python 3",
   "language": "python",
   "name": "python3"
  },
  "language_info": {
   "codemirror_mode": {
    "name": "ipython",
    "version": 3
   },
   "file_extension": ".py",
   "mimetype": "text/x-python",
   "name": "python",
   "nbconvert_exporter": "python",
   "pygments_lexer": "ipython3",
   "version": "3.6.9"
  }
 },
 "nbformat": 4,
 "nbformat_minor": 2
}
