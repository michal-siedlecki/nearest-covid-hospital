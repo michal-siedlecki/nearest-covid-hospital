{
 "cells": [
  {
   "cell_type": "code",
   "execution_count": 1,
   "metadata": {},
   "outputs": [],
   "source": [
    "import tabula\n",
    "import pandas as pd\n",
    "import os\n",
    "import re"
   ]
  },
  {
   "cell_type": "code",
   "execution_count": 150,
   "metadata": {},
   "outputs": [
    {
     "name": "stderr",
     "output_type": "stream",
     "text": [
      "/home/ms/.local/lib/python3.6/site-packages/pandas/core/frame.py:3997: SettingWithCopyWarning: \n",
      "A value is trying to be set on a copy of a slice from a DataFrame\n",
      "\n",
      "See the caveats in the documentation: https://pandas.pydata.org/pandas-docs/stable/user_guide/indexing.html#returning-a-view-versus-a-copy\n",
      "  errors=errors,\n"
     ]
    }
   ],
   "source": [
    "tables[7] = transform(tables[7][:3])"
   ]
  },
  {
   "cell_type": "code",
   "execution_count": 151,
   "metadata": {},
   "outputs": [
    {
     "data": {
      "text/html": [
       "<div>\n",
       "<style scoped>\n",
       "    .dataframe tbody tr th:only-of-type {\n",
       "        vertical-align: middle;\n",
       "    }\n",
       "\n",
       "    .dataframe tbody tr th {\n",
       "        vertical-align: top;\n",
       "    }\n",
       "\n",
       "    .dataframe thead th {\n",
       "        text-align: right;\n",
       "    }\n",
       "</style>\n",
       "<table border=\"1\" class=\"dataframe\">\n",
       "  <thead>\n",
       "    <tr style=\"text-align: right;\">\n",
       "      <th>index</th>\n",
       "      <th>nazwa</th>\n",
       "      <th>adres</th>\n",
       "      <th>telefon</th>\n",
       "    </tr>\n",
       "  </thead>\n",
       "  <tbody>\n",
       "    <tr>\n",
       "      <th>2</th>\n",
       "      <td>SAMODZIELNY PUBLICZNY SPECJALISTYCZNY ZOZ \"ZDR...</td>\n",
       "      <td>70-780 SZCZECIN, UL. MĄCZNA 4</td>\n",
       "      <td>91-880-62-50/91-880-64-80</td>\n",
       "    </tr>\n",
       "  </tbody>\n",
       "</table>\n",
       "</div>"
      ],
      "text/plain": [
       "index                                              nazwa  \\\n",
       "2      SAMODZIELNY PUBLICZNY SPECJALISTYCZNY ZOZ \"ZDR...   \n",
       "\n",
       "index                          adres                    telefon  \n",
       "2      70-780 SZCZECIN, UL. MĄCZNA 4  91-880-62-50/91-880-64-80  "
      ]
     },
     "execution_count": 151,
     "metadata": {},
     "output_type": "execute_result"
    }
   ],
   "source": [
    "tables[7]"
   ]
  },
  {
   "cell_type": "code",
   "execution_count": 153,
   "metadata": {},
   "outputs": [
    {
     "name": "stderr",
     "output_type": "stream",
     "text": [
      "/home/ms/.local/lib/python3.6/site-packages/pandas/core/frame.py:3997: SettingWithCopyWarning: \n",
      "A value is trying to be set on a copy of a slice from a DataFrame\n",
      "\n",
      "See the caveats in the documentation: https://pandas.pydata.org/pandas-docs/stable/user_guide/indexing.html#returning-a-view-versus-a-copy\n",
      "  errors=errors,\n"
     ]
    }
   ],
   "source": [
    "tables[8] = transform(tables[8][:3])"
   ]
  },
  {
   "cell_type": "code",
   "execution_count": 155,
   "metadata": {},
   "outputs": [
    {
     "name": "stderr",
     "output_type": "stream",
     "text": [
      "/home/ms/.local/lib/python3.6/site-packages/pandas/core/frame.py:3997: SettingWithCopyWarning: \n",
      "A value is trying to be set on a copy of a slice from a DataFrame\n",
      "\n",
      "See the caveats in the documentation: https://pandas.pydata.org/pandas-docs/stable/user_guide/indexing.html#returning-a-view-versus-a-copy\n",
      "  errors=errors,\n"
     ]
    }
   ],
   "source": [
    "tables[9] = transform(tables[9][:3])"
   ]
  },
  {
   "cell_type": "code",
   "execution_count": 162,
   "metadata": {},
   "outputs": [],
   "source": [
    "tables_2 = []\n",
    "for table in tables:\n",
    "    try:\n",
    "        if len(table)==1:\n",
    "            tables_2.append(table)\n",
    "    except TypeError:\n",
    "        pass"
   ]
  },
  {
   "cell_type": "code",
   "execution_count": 163,
   "metadata": {},
   "outputs": [
    {
     "data": {
      "text/plain": [
       "7"
      ]
     },
     "execution_count": 163,
     "metadata": {},
     "output_type": "execute_result"
    }
   ],
   "source": [
    "len(tables_2)"
   ]
  },
  {
   "cell_type": "code",
   "execution_count": 164,
   "metadata": {},
   "outputs": [],
   "source": [
    "df2 = pd.concat(tables_2)"
   ]
  },
  {
   "cell_type": "code",
   "execution_count": 167,
   "metadata": {},
   "outputs": [],
   "source": [
    "df2.reset_index(inplace=True)"
   ]
  },
  {
   "cell_type": "code",
   "execution_count": 170,
   "metadata": {},
   "outputs": [],
   "source": [
    "df2 = df2.drop(columns='index')"
   ]
  },
  {
   "cell_type": "code",
   "execution_count": 171,
   "metadata": {},
   "outputs": [],
   "source": [
    "frame = pd.concat([df,df2], ignore_index=True)"
   ]
  },
  {
   "cell_type": "code",
   "execution_count": 172,
   "metadata": {},
   "outputs": [
    {
     "data": {
      "text/html": [
       "<div>\n",
       "<style scoped>\n",
       "    .dataframe tbody tr th:only-of-type {\n",
       "        vertical-align: middle;\n",
       "    }\n",
       "\n",
       "    .dataframe tbody tr th {\n",
       "        vertical-align: top;\n",
       "    }\n",
       "\n",
       "    .dataframe thead th {\n",
       "        text-align: right;\n",
       "    }\n",
       "</style>\n",
       "<table border=\"1\" class=\"dataframe\">\n",
       "  <thead>\n",
       "    <tr style=\"text-align: right;\">\n",
       "      <th>index</th>\n",
       "      <th>nazwa</th>\n",
       "      <th>adres</th>\n",
       "      <th>telefon</th>\n",
       "    </tr>\n",
       "  </thead>\n",
       "  <tbody>\n",
       "    <tr>\n",
       "      <th>0</th>\n",
       "      <td>WIELOSPECJALISTYCZNY SZPITAL MIEJSKI IM. JÓZEF...</td>\n",
       "      <td>POZNAŃ 61-285, UL. SZWAJCARSKA 3</td>\n",
       "      <td>61 873 90 000</td>\n",
       "    </tr>\n",
       "    <tr>\n",
       "      <th>1</th>\n",
       "      <td>WOJEWÓDZKI SZPITAL ZESPOLONY IM. DR. ROMANA OS...</td>\n",
       "      <td>KONIN 62-504, UL. SZPITALNA 45</td>\n",
       "      <td>63 240 43 000</td>\n",
       "    </tr>\n",
       "    <tr>\n",
       "      <th>2</th>\n",
       "      <td>WOJEWÓDZKI SZPITAL ZESPOLONY IM.LUDWIKA PERZYN...</td>\n",
       "      <td>KALISZ 62-800, UL. POZNAŃSKA 79</td>\n",
       "      <td>62 765 13 56</td>\n",
       "    </tr>\n",
       "    <tr>\n",
       "      <th>3</th>\n",
       "      <td>SZPITAL POWIATOWY IM. ROMANA DREWSA W CHODZIEŻY</td>\n",
       "      <td>ŻEROMSKIEGO 29 64-800 CHODZIEŻ</td>\n",
       "      <td>67 282 92 21</td>\n",
       "    </tr>\n",
       "    <tr>\n",
       "      <th>4</th>\n",
       "      <td>SAMODZIELNY PUBLICZNY ZAKŁAD OPIEKI ZDROWOTNEJ...</td>\n",
       "      <td>PODUCHOWNE 1 62-700 TUREK</td>\n",
       "      <td>63 280 55 08</td>\n",
       "    </tr>\n",
       "    <tr>\n",
       "      <th>...</th>\n",
       "      <td>...</td>\n",
       "      <td>...</td>\n",
       "      <td>...</td>\n",
       "    </tr>\n",
       "    <tr>\n",
       "      <th>157</th>\n",
       "      <td>SAMODZIELNY PUBLICZNY WOJEWÓDZKI SZPITAL ZESPO...</td>\n",
       "      <td>71-455 SZCZECIN, UL. ARKOŃSKA 4</td>\n",
       "      <td>91-813-90-45/91-813-90-09/91-813-93-30</td>\n",
       "    </tr>\n",
       "    <tr>\n",
       "      <th>158</th>\n",
       "      <td>SZPITAL WOJEWÓDZKI IM. MIKOŁAJA KOPERNIKA W KO...</td>\n",
       "      <td>75-581 KOSZALIN, UL. CHAŁUBIŃSKIEGO 7</td>\n",
       "      <td>94-348-84-00/94-348-82-99</td>\n",
       "    </tr>\n",
       "    <tr>\n",
       "      <th>159</th>\n",
       "      <td>SAMODZIELNY PUBLICZNY SPECJALISTYCZNY ZOZ \"ZDR...</td>\n",
       "      <td>70-780 SZCZECIN, UL. MĄCZNA 4</td>\n",
       "      <td>91-880-62-50/91-880-64-80</td>\n",
       "    </tr>\n",
       "    <tr>\n",
       "      <th>160</th>\n",
       "      <td>ZESPÓŁ GRUŹLICY I CHORÓB PŁUC</td>\n",
       "      <td>75-252 KOSZALIN, UL. NIEPODLEGŁOŚCI 44-48</td>\n",
       "      <td>94-342-20-51/94-342-33-39</td>\n",
       "    </tr>\n",
       "    <tr>\n",
       "      <th>161</th>\n",
       "      <td>WOJEWÓDZKA STACJA POGOTOWIA RATUNKOWEGO</td>\n",
       "      <td>71-011 SZCZECIN, UL. MIESZKA I  33</td>\n",
       "      <td>91-433-38-01/91-433-57-54</td>\n",
       "    </tr>\n",
       "  </tbody>\n",
       "</table>\n",
       "<p>162 rows × 3 columns</p>\n",
       "</div>"
      ],
      "text/plain": [
       "index                                              nazwa  \\\n",
       "0      WIELOSPECJALISTYCZNY SZPITAL MIEJSKI IM. JÓZEF...   \n",
       "1      WOJEWÓDZKI SZPITAL ZESPOLONY IM. DR. ROMANA OS...   \n",
       "2      WOJEWÓDZKI SZPITAL ZESPOLONY IM.LUDWIKA PERZYN...   \n",
       "3        SZPITAL POWIATOWY IM. ROMANA DREWSA W CHODZIEŻY   \n",
       "4      SAMODZIELNY PUBLICZNY ZAKŁAD OPIEKI ZDROWOTNEJ...   \n",
       "..                                                   ...   \n",
       "157    SAMODZIELNY PUBLICZNY WOJEWÓDZKI SZPITAL ZESPO...   \n",
       "158    SZPITAL WOJEWÓDZKI IM. MIKOŁAJA KOPERNIKA W KO...   \n",
       "159    SAMODZIELNY PUBLICZNY SPECJALISTYCZNY ZOZ \"ZDR...   \n",
       "160                        ZESPÓŁ GRUŹLICY I CHORÓB PŁUC   \n",
       "161              WOJEWÓDZKA STACJA POGOTOWIA RATUNKOWEGO   \n",
       "\n",
       "index                                      adres  \\\n",
       "0               POZNAŃ 61-285, UL. SZWAJCARSKA 3   \n",
       "1                 KONIN 62-504, UL. SZPITALNA 45   \n",
       "2                KALISZ 62-800, UL. POZNAŃSKA 79   \n",
       "3                 ŻEROMSKIEGO 29 64-800 CHODZIEŻ   \n",
       "4                      PODUCHOWNE 1 62-700 TUREK   \n",
       "..                                           ...   \n",
       "157              71-455 SZCZECIN, UL. ARKOŃSKA 4   \n",
       "158        75-581 KOSZALIN, UL. CHAŁUBIŃSKIEGO 7   \n",
       "159                70-780 SZCZECIN, UL. MĄCZNA 4   \n",
       "160    75-252 KOSZALIN, UL. NIEPODLEGŁOŚCI 44-48   \n",
       "161           71-011 SZCZECIN, UL. MIESZKA I  33   \n",
       "\n",
       "index                                 telefon  \n",
       "0                               61 873 90 000  \n",
       "1                               63 240 43 000  \n",
       "2                                62 765 13 56  \n",
       "3                                67 282 92 21  \n",
       "4                                63 280 55 08  \n",
       "..                                        ...  \n",
       "157    91-813-90-45/91-813-90-09/91-813-93-30  \n",
       "158                 94-348-84-00/94-348-82-99  \n",
       "159                 91-880-62-50/91-880-64-80  \n",
       "160                 94-342-20-51/94-342-33-39  \n",
       "161                 91-433-38-01/91-433-57-54  \n",
       "\n",
       "[162 rows x 3 columns]"
      ]
     },
     "execution_count": 172,
     "metadata": {},
     "output_type": "execute_result"
    }
   ],
   "source": [
    "frame"
   ]
  },
  {
   "cell_type": "code",
   "execution_count": 173,
   "metadata": {},
   "outputs": [],
   "source": [
    "frame.to_csv('df_update.csv')"
   ]
  },
  {
   "cell_type": "code",
   "execution_count": null,
   "metadata": {},
   "outputs": [],
   "source": []
  }
 ],
 "metadata": {
  "kernelspec": {
   "display_name": "Python 3",
   "language": "python",
   "name": "python3"
  },
  "language_info": {
   "codemirror_mode": {
    "name": "ipython",
    "version": 3
   },
   "file_extension": ".py",
   "mimetype": "text/x-python",
   "name": "python",
   "nbconvert_exporter": "python",
   "pygments_lexer": "ipython3",
   "version": "3.6.9"
  }
 },
 "nbformat": 4,
 "nbformat_minor": 2
}
