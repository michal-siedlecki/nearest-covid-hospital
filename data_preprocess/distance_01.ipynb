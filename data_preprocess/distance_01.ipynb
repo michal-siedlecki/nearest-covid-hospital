{
 "cells": [
  {
   "cell_type": "code",
   "execution_count": 2,
   "metadata": {},
   "outputs": [],
   "source": [
    "import pandas as pd\n",
    "from geopy.distance import great_circle"
   ]
  },
  {
   "cell_type": "code",
   "execution_count": 4,
   "metadata": {},
   "outputs": [],
   "source": [
    "df = pd.read_csv('df_coords_clear.csv')"
   ]
  },
  {
   "cell_type": "code",
   "execution_count": 5,
   "metadata": {},
   "outputs": [],
   "source": [
    "my_loc = (52.34, 18.45)"
   ]
  },
  {
   "cell_type": "code",
   "execution_count": 6,
   "metadata": {},
   "outputs": [],
   "source": [
    "def get_distance(from_coords, lat, lon):\n",
    "    return great_circle(from_coords,(lat, lon)).kilometers\n",
    "    "
   ]
  },
  {
   "cell_type": "code",
   "execution_count": 36,
   "metadata": {},
   "outputs": [],
   "source": [
    "def get_closest_index(frame, position):\n",
    "    distances = pd.DataFrame()\n",
    "    distances['dist'] = frame.apply(lambda x: get_distance(position,x['geo_lat'],x['geo_lon']), axis=1)\n",
    "    \n",
    "    return distances.dist.idxmin()"
   ]
  },
  {
   "cell_type": "code",
   "execution_count": 39,
   "metadata": {},
   "outputs": [
    {
     "data": {
      "text/plain": [
       "Unnamed: 0                                        87\n",
       "nazwa                        NOWY SZPITAL SP. Z O.O.\n",
       "adres         ŚWIECIE/86-100/UL.WOJSKA POLSKIEGO 126\n",
       "telefon                                 41 240 16 34\n",
       "geo_lat                                      53.4139\n",
       "geo_lon                                      18.4668\n",
       "Name: 87, dtype: object"
      ]
     },
     "execution_count": 39,
     "metadata": {},
     "output_type": "execute_result"
    }
   ],
   "source": [
    "df.loc[get_closest_index(df,(53.4,18.5))]"
   ]
  },
  {
   "cell_type": "code",
   "execution_count": null,
   "metadata": {},
   "outputs": [],
   "source": []
  }
 ],
 "metadata": {
  "kernelspec": {
   "display_name": "Python 3",
   "language": "python",
   "name": "python3"
  },
  "language_info": {
   "codemirror_mode": {
    "name": "ipython",
    "version": 3
   },
   "file_extension": ".py",
   "mimetype": "text/x-python",
   "name": "python",
   "nbconvert_exporter": "python",
   "pygments_lexer": "ipython3",
   "version": "3.6.9"
  }
 },
 "nbformat": 4,
 "nbformat_minor": 2
}
