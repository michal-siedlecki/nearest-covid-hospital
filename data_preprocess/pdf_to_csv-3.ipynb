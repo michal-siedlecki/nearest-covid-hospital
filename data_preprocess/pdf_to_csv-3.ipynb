{
 "cells": [
  {
   "cell_type": "code",
   "execution_count": 48,
   "metadata": {},
   "outputs": [],
   "source": [
    "import tabula\n",
    "import pandas as pd\n",
    "import os\n",
    "import re"
   ]
  },
  {
   "cell_type": "code",
   "execution_count": 6,
   "metadata": {},
   "outputs": [],
   "source": [
    "pdfs = [x for x in os.listdir() if x.endswith('.pdf')]"
   ]
  },
  {
   "cell_type": "code",
   "execution_count": 5,
   "metadata": {},
   "outputs": [],
   "source": [
    "os.chdir(os.path.join(os.getcwd(),'csv_not_in/'))"
   ]
  },
  {
   "cell_type": "code",
   "execution_count": 39,
   "metadata": {},
   "outputs": [
    {
     "name": "stderr",
     "output_type": "stream",
     "text": [
      "Got stderr: mar 16, 2020 10:03:16 PM org.apache.pdfbox.pdmodel.font.PDCIDFontType2 <init>\n",
      "INFO: OpenType Layout tables used in font ABCDEE+Calibri are not implemented in PDFBox and will be ignored\n",
      "mar 16, 2020 10:03:16 PM org.apache.pdfbox.pdmodel.font.PDCIDFontType2 <init>\n",
      "INFO: OpenType Layout tables used in font ABCDEE+Calibri-Bold are not implemented in PDFBox and will be ignored\n",
      "mar 16, 2020 10:03:16 PM org.apache.pdfbox.pdmodel.font.PDCIDFontType2 <init>\n",
      "INFO: OpenType Layout tables used in font ABCDEE+Calibri are not implemented in PDFBox and will be ignored\n",
      "mar 16, 2020 10:03:16 PM org.apache.pdfbox.pdmodel.font.PDSimpleFont toUnicode\n",
      "WARNING: No Unicode mapping for .notdef (9) in font ABCDEE+Calibri\n",
      "mar 16, 2020 10:03:17 PM org.apache.pdfbox.pdmodel.font.PDCIDFontType2 <init>\n",
      "INFO: OpenType Layout tables used in font ABCDEE+Calibri-BoldItalic are not implemented in PDFBox and will be ignored\n",
      "\n",
      "Got stderr: mar 16, 2020 10:03:18 PM org.apache.pdfbox.pdmodel.font.PDCIDFontType2 <init>\n",
      "INFO: OpenType Layout tables used in font ABCDEE+Calibri-Bold are not implemented in PDFBox and will be ignored\n",
      "mar 16, 2020 10:03:18 PM org.apache.pdfbox.pdmodel.font.PDCIDFontType2 <init>\n",
      "INFO: OpenType Layout tables used in font ABCDEE+Calibri are not implemented in PDFBox and will be ignored\n",
      "\n",
      "Got stderr: mar 16, 2020 10:03:27 PM org.apache.pdfbox.pdmodel.font.PDCIDFontType2 <init>\n",
      "INFO: OpenType Layout tables used in font ABCDEE+Calibri are not implemented in PDFBox and will be ignored\n",
      "mar 16, 2020 10:03:27 PM org.apache.pdfbox.pdmodel.font.PDCIDFontType2 <init>\n",
      "INFO: OpenType Layout tables used in font ABCDEE+Calibri-Bold are not implemented in PDFBox and will be ignored\n",
      "mar 16, 2020 10:03:27 PM org.apache.pdfbox.pdmodel.font.PDCIDFontType2 <init>\n",
      "INFO: OpenType Layout tables used in font ABCDEE+Verdana-Bold are not implemented in PDFBox and will be ignored\n",
      "mar 16, 2020 10:03:28 PM org.apache.pdfbox.pdmodel.font.PDCIDFontType2 <init>\n",
      "INFO: OpenType Layout tables used in font ABCDEE+Calibri are not implemented in PDFBox and will be ignored\n",
      "mar 16, 2020 10:03:28 PM org.apache.pdfbox.pdmodel.font.PDCIDFontType2 <init>\n",
      "INFO: OpenType Layout tables used in font ABCDEE+Calibri-Bold are not implemented in PDFBox and will be ignored\n",
      "mar 16, 2020 10:03:28 PM org.apache.pdfbox.pdmodel.font.PDCIDFontType2 <init>\n",
      "INFO: OpenType Layout tables used in font ABCDEE+Verdana-Bold are not implemented in PDFBox and will be ignored\n",
      "mar 16, 2020 10:03:28 PM org.apache.pdfbox.pdmodel.font.PDCIDFontType2 <init>\n",
      "INFO: OpenType Layout tables used in font ABCDEE+Calibri are not implemented in PDFBox and will be ignored\n",
      "mar 16, 2020 10:03:28 PM org.apache.pdfbox.pdmodel.font.PDCIDFontType2 <init>\n",
      "INFO: OpenType Layout tables used in font ABCDEE+Calibri-Bold are not implemented in PDFBox and will be ignored\n",
      "mar 16, 2020 10:03:28 PM org.apache.pdfbox.pdmodel.font.PDCIDFontType2 <init>\n",
      "INFO: OpenType Layout tables used in font ABCDEE+Verdana-Bold are not implemented in PDFBox and will be ignored\n",
      "mar 16, 2020 10:03:29 PM org.apache.pdfbox.pdmodel.font.PDCIDFontType2 <init>\n",
      "INFO: OpenType Layout tables used in font ABCDEE+Calibri-Bold are not implemented in PDFBox and will be ignored\n",
      "mar 16, 2020 10:03:29 PM org.apache.pdfbox.pdmodel.font.PDCIDFontType2 <init>\n",
      "INFO: OpenType Layout tables used in font ABCDEE+Calibri are not implemented in PDFBox and will be ignored\n",
      "mar 16, 2020 10:03:29 PM org.apache.pdfbox.pdmodel.font.PDCIDFontType2 <init>\n",
      "INFO: OpenType Layout tables used in font ABCDEE+Calibri-Bold are not implemented in PDFBox and will be ignored\n",
      "mar 16, 2020 10:03:29 PM org.apache.pdfbox.pdmodel.font.PDCIDFontType2 <init>\n",
      "INFO: OpenType Layout tables used in font ABCDEE+Calibri are not implemented in PDFBox and will be ignored\n",
      "\n"
     ]
    }
   ],
   "source": [
    "table_list = []\n",
    "\n",
    "for pdf in pdfs:\n",
    "    tables = tabula.read_pdf(pdf, multiple_tables=True, pages='all')\n",
    "    for table in tables:\n",
    "        table_list.append([table, pdf])"
   ]
  },
  {
   "cell_type": "code",
   "execution_count": 56,
   "metadata": {},
   "outputs": [],
   "source": [
    "complex_tables = []\n",
    "simple_tables = []\n",
    "pattern = 'Podmiot'\n",
    "for l in table_list:\n",
    "    text = list(l[0].columns)[0]\n",
    "    if re.search(pattern,text):\n",
    "        simple_tables.append(l[0])\n",
    "    else:\n",
    "        complex_tables.append(l[0])\n"
   ]
  },
  {
   "cell_type": "code",
   "execution_count": 58,
   "metadata": {},
   "outputs": [
    {
     "data": {
      "text/html": [
       "<div>\n",
       "<style scoped>\n",
       "    .dataframe tbody tr th:only-of-type {\n",
       "        vertical-align: middle;\n",
       "    }\n",
       "\n",
       "    .dataframe tbody tr th {\n",
       "        vertical-align: top;\n",
       "    }\n",
       "\n",
       "    .dataframe thead th {\n",
       "        text-align: right;\n",
       "    }\n",
       "</style>\n",
       "<table border=\"1\" class=\"dataframe\">\n",
       "  <thead>\n",
       "    <tr style=\"text-align: right;\">\n",
       "      <th>2</th>\n",
       "      <th>Podmiot wykonujący działalność leczniczą 1</th>\n",
       "      <th>NaN</th>\n",
       "    </tr>\n",
       "  </thead>\n",
       "  <tbody>\n",
       "    <tr>\n",
       "      <th>3</th>\n",
       "      <td>nazwa:</td>\n",
       "      <td>SZPITAL KLINICZNY IM. KAROLA JONSCHERA UNIWERS...</td>\n",
       "    </tr>\n",
       "    <tr>\n",
       "      <th>4</th>\n",
       "      <td>adres: miejscowość/ kod pocztowy/ ulica i nr domu</td>\n",
       "      <td>Poznań 60-572, ul. Szpitalna 27/33</td>\n",
       "    </tr>\n",
       "    <tr>\n",
       "      <th>5</th>\n",
       "      <td>telefon/ telefony:</td>\n",
       "      <td>61 849 12 00</td>\n",
       "    </tr>\n",
       "    <tr>\n",
       "      <th>6</th>\n",
       "      <td>identyfikator REGON</td>\n",
       "      <td>000288863</td>\n",
       "    </tr>\n",
       "    <tr>\n",
       "      <th>7</th>\n",
       "      <td>Miejsce udzielania świadczeń 1 *</td>\n",
       "      <td>NaN</td>\n",
       "    </tr>\n",
       "    <tr>\n",
       "      <th>8</th>\n",
       "      <td>nazwa:</td>\n",
       "      <td>Oddział VIII Chorób Zakaźnych i Neurologii, Pe...</td>\n",
       "    </tr>\n",
       "    <tr>\n",
       "      <th>9</th>\n",
       "      <td>adres: miejscowość/ kod pocztowy/ ulica i nr domu</td>\n",
       "      <td>Poznań 60-572, ul. Szpitalna 27/33</td>\n",
       "    </tr>\n",
       "    <tr>\n",
       "      <th>10</th>\n",
       "      <td>telefon/ telefony</td>\n",
       "      <td>504 907 994</td>\n",
       "    </tr>\n",
       "  </tbody>\n",
       "</table>\n",
       "</div>"
      ],
      "text/plain": [
       "2          Podmiot wykonujący działalność leczniczą 1  \\\n",
       "3                                              nazwa:   \n",
       "4   adres: miejscowość/ kod pocztowy/ ulica i nr domu   \n",
       "5                                  telefon/ telefony:   \n",
       "6                                 identyfikator REGON   \n",
       "7                    Miejsce udzielania świadczeń 1 *   \n",
       "8                                              nazwa:   \n",
       "9   adres: miejscowość/ kod pocztowy/ ulica i nr domu   \n",
       "10                                  telefon/ telefony   \n",
       "\n",
       "2                                                 NaN  \n",
       "3   SZPITAL KLINICZNY IM. KAROLA JONSCHERA UNIWERS...  \n",
       "4                  Poznań 60-572, ul. Szpitalna 27/33  \n",
       "5                                        61 849 12 00  \n",
       "6                                           000288863  \n",
       "7                                                 NaN  \n",
       "8   Oddział VIII Chorób Zakaźnych i Neurologii, Pe...  \n",
       "9                  Poznań 60-572, ul. Szpitalna 27/33  \n",
       "10                                        504 907 994  "
      ]
     },
     "execution_count": 58,
     "metadata": {},
     "output_type": "execute_result"
    }
   ],
   "source": [
    "simple_tables[0]"
   ]
  },
  {
   "cell_type": "code",
   "execution_count": 4,
   "metadata": {},
   "outputs": [],
   "source": [
    "exceptions = []\n",
    "def transform(df):\n",
    "    \n",
    "    if len(df.columns) == 2:\n",
    "        df.columns = [1,2]\n",
    "        df.set_index(1)\n",
    "        col = ['nazwa', 'adres', 'telefon']\n",
    "        try:\n",
    "            df.insert(0,'index',col)\n",
    "            df.drop(columns=1, inplace=True)\n",
    "            df.set_index('index', inplace=True)\n",
    "            df = df.transpose()\n",
    "            return df\n",
    "        except ValueError:\n",
    "            exceptions.append(df)"
   ]
  },
  {
   "cell_type": "code",
   "execution_count": 6,
   "metadata": {
    "scrolled": true
   },
   "outputs": [
    {
     "name": "stderr",
     "output_type": "stream",
     "text": [
      "/home/ms/.local/lib/python3.6/site-packages/pandas/core/frame.py:3997: SettingWithCopyWarning: \n",
      "A value is trying to be set on a copy of a slice from a DataFrame\n",
      "\n",
      "See the caveats in the documentation: https://pandas.pydata.org/pandas-docs/stable/user_guide/indexing.html#returning-a-view-versus-a-copy\n",
      "  errors=errors,\n"
     ]
    }
   ],
   "source": [
    "hospital_list = []\n",
    "for tupl in table_list:\n",
    "    frame = tupl[0].loc[:2]\n",
    "    hospital = transform(frame)\n",
    "    hospital_list.append(hospital)\n",
    "    "
   ]
  },
  {
   "cell_type": "code",
   "execution_count": 10,
   "metadata": {},
   "outputs": [],
   "source": [
    "df = pd.concat(hospital_list)"
   ]
  },
  {
   "cell_type": "code",
   "execution_count": 22,
   "metadata": {},
   "outputs": [],
   "source": [
    "df = df.reset_index()"
   ]
  },
  {
   "cell_type": "code",
   "execution_count": 25,
   "metadata": {},
   "outputs": [],
   "source": [
    "df.drop('index', axis=1, inplace=True)"
   ]
  },
  {
   "cell_type": "code",
   "execution_count": 36,
   "metadata": {},
   "outputs": [
    {
     "data": {
      "text/plain": [
       "index\n",
       "nazwa      SZPITAL OGÓLNY IM. DR WITOLDA GINELA\\rW GRAJEWIE\n",
       "adres                 GRAJEWO 19-200, KONSTYTUCJI 3 MAJA 34\n",
       "telefon                                       86 272 232 71\n",
       "Name: 0, dtype: object"
      ]
     },
     "execution_count": 36,
     "metadata": {},
     "output_type": "execute_result"
    }
   ],
   "source": [
    "df.loc[0]"
   ]
  },
  {
   "cell_type": "code",
   "execution_count": 65,
   "metadata": {
    "scrolled": true
   },
   "outputs": [
    {
     "data": {
      "text/html": [
       "<div>\n",
       "<style scoped>\n",
       "    .dataframe tbody tr th:only-of-type {\n",
       "        vertical-align: middle;\n",
       "    }\n",
       "\n",
       "    .dataframe tbody tr th {\n",
       "        vertical-align: top;\n",
       "    }\n",
       "\n",
       "    .dataframe thead th {\n",
       "        text-align: right;\n",
       "    }\n",
       "</style>\n",
       "<table border=\"1\" class=\"dataframe\">\n",
       "  <thead>\n",
       "    <tr style=\"text-align: right;\">\n",
       "      <th></th>\n",
       "      <th>nazwa</th>\n",
       "      <th>adres</th>\n",
       "      <th>telefon</th>\n",
       "    </tr>\n",
       "  </thead>\n",
       "  <tbody>\n",
       "    <tr>\n",
       "      <th>0</th>\n",
       "      <td>Uniwersytecki Dziecięcy Szpital Kliniczny im. ...</td>\n",
       "      <td>BIAŁYSTOK 15-274, JERZEGO\\rWASZYNGTONA, 17</td>\n",
       "      <td>85 745 06 93</td>\n",
       "    </tr>\n",
       "  </tbody>\n",
       "</table>\n",
       "</div>"
      ],
      "text/plain": [
       "                                               nazwa  \\\n",
       "0  Uniwersytecki Dziecięcy Szpital Kliniczny im. ...   \n",
       "\n",
       "                                        adres       telefon  \n",
       "0  BIAŁYSTOK 15-274, JERZEGO\\rWASZYNGTONA, 17  85 745 06 93  "
      ]
     },
     "execution_count": 65,
     "metadata": {},
     "output_type": "execute_result"
    }
   ],
   "source": [
    "col = ['nazwa', 'adres', 'telefon']\n",
    "ex1 = exceptions[2].transpose()\n",
    "ex1.insert(0, 'nazwa', ['nazwa', 'Uniwersytecki Dziecięcy Szpital Kliniczny im. L. Zamenhofaw Białymstoku'])\n",
    "ex1.columns = col\n",
    "ex1 = ex1.loc[2:2].reset_index()\n",
    "ex1.drop('index', axis=1, inplace=True)\n",
    "ex1"
   ]
  },
  {
   "cell_type": "code",
   "execution_count": 69,
   "metadata": {},
   "outputs": [],
   "source": [
    "df = df.append(ex1, ignore_index=True)"
   ]
  },
  {
   "cell_type": "code",
   "execution_count": 70,
   "metadata": {
    "scrolled": false
   },
   "outputs": [
    {
     "data": {
      "text/html": [
       "<div>\n",
       "<style scoped>\n",
       "    .dataframe tbody tr th:only-of-type {\n",
       "        vertical-align: middle;\n",
       "    }\n",
       "\n",
       "    .dataframe tbody tr th {\n",
       "        vertical-align: top;\n",
       "    }\n",
       "\n",
       "    .dataframe thead th {\n",
       "        text-align: right;\n",
       "    }\n",
       "</style>\n",
       "<table border=\"1\" class=\"dataframe\">\n",
       "  <thead>\n",
       "    <tr style=\"text-align: right;\">\n",
       "      <th></th>\n",
       "      <th>nazwa</th>\n",
       "      <th>adres</th>\n",
       "      <th>telefon</th>\n",
       "    </tr>\n",
       "  </thead>\n",
       "  <tbody>\n",
       "    <tr>\n",
       "      <th>0</th>\n",
       "      <td>Podhalański Szpital Specjalistyczny</td>\n",
       "      <td>ul. Szpitalna 14, 34-400 Nowy Targ</td>\n",
       "      <td>NaN</td>\n",
       "    </tr>\n",
       "  </tbody>\n",
       "</table>\n",
       "</div>"
      ],
      "text/plain": [
       "                                 nazwa                               adres  \\\n",
       "0  Podhalański Szpital Specjalistyczny  ul. Szpitalna 14, 34-400 Nowy Targ   \n",
       "\n",
       "  telefon  \n",
       "0     NaN  "
      ]
     },
     "execution_count": 70,
     "metadata": {},
     "output_type": "execute_result"
    }
   ],
   "source": [
    "\n",
    "col = ['nazwa', 'adres', 'telefon']\n",
    "ex1 = exceptions[4].transpose()\n",
    "ex1.insert(0, 'nazwa', ['nazwa', 'Podhalański Szpital Specjalistyczny'])\n",
    "ex1.columns = col\n",
    "ex1 = ex1.loc[2:2].reset_index()\n",
    "ex1.drop('index', axis=1, inplace=True)\n",
    "ex1"
   ]
  },
  {
   "cell_type": "code",
   "execution_count": 71,
   "metadata": {},
   "outputs": [],
   "source": [
    "df = df.append(ex1, ignore_index=True)"
   ]
  },
  {
   "cell_type": "code",
   "execution_count": 77,
   "metadata": {},
   "outputs": [],
   "source": [
    "df.loc[132].telefon = '18 263 30 01'"
   ]
  },
  {
   "cell_type": "code",
   "execution_count": 78,
   "metadata": {},
   "outputs": [
    {
     "data": {
      "text/html": [
       "<div>\n",
       "<style scoped>\n",
       "    .dataframe tbody tr th:only-of-type {\n",
       "        vertical-align: middle;\n",
       "    }\n",
       "\n",
       "    .dataframe tbody tr th {\n",
       "        vertical-align: top;\n",
       "    }\n",
       "\n",
       "    .dataframe thead th {\n",
       "        text-align: right;\n",
       "    }\n",
       "</style>\n",
       "<table border=\"1\" class=\"dataframe\">\n",
       "  <thead>\n",
       "    <tr style=\"text-align: right;\">\n",
       "      <th>index</th>\n",
       "      <th>nazwa</th>\n",
       "      <th>adres</th>\n",
       "      <th>telefon</th>\n",
       "    </tr>\n",
       "  </thead>\n",
       "  <tbody>\n",
       "    <tr>\n",
       "      <th>0</th>\n",
       "      <td>SZPITAL OGÓLNY IM. DR WITOLDA GINELA\\rW GRAJEWIE</td>\n",
       "      <td>GRAJEWO 19-200, KONSTYTUCJI 3 MAJA 34</td>\n",
       "      <td>86 272 232 71</td>\n",
       "    </tr>\n",
       "    <tr>\n",
       "      <th>1</th>\n",
       "      <td>SAMODZIELNY PUBLICZNY ZAKŁAD OPIEKI\\rZDROWOTNE...</td>\n",
       "      <td>AUGUSTÓW, 16-300, SZPITALNA 12</td>\n",
       "      <td>87 644 42 84</td>\n",
       "    </tr>\n",
       "    <tr>\n",
       "      <th>2</th>\n",
       "      <td>SAMODZIELNY PUBLICZNY ZAKŁAD OPIEKI\\rZDROWOTNE...</td>\n",
       "      <td>HAJNÓWKA, 17-200 DOC. ADAMA\\rDOWGIRDA, 9</td>\n",
       "      <td>85 682 92 02</td>\n",
       "    </tr>\n",
       "    <tr>\n",
       "      <th>3</th>\n",
       "      <td>SAMODZIELNY PUBLICZNY ZAKŁAD OPIEKI\\rZDROWOTNE...</td>\n",
       "      <td>BIELSK PODLASKI, 17-100, KLESZCZELOWSKA\\r1</td>\n",
       "      <td>85 833 43 30</td>\n",
       "    </tr>\n",
       "    <tr>\n",
       "      <th>4</th>\n",
       "      <td>SZPITAL WOJEWÓDZKI IM. DR. LUDWIKA\\rRYDYGIERA ...</td>\n",
       "      <td>SUWAŁKI, 16-400, SZPITALNA, 60</td>\n",
       "      <td>87 562 94 21</td>\n",
       "    </tr>\n",
       "    <tr>\n",
       "      <th>...</th>\n",
       "      <td>...</td>\n",
       "      <td>...</td>\n",
       "      <td>...</td>\n",
       "    </tr>\n",
       "    <tr>\n",
       "      <th>128</th>\n",
       "      <td>WOJEWÓDZKA STACJA POGOTOWIA RATUNKOWEGO W\\rRZE...</td>\n",
       "      <td>35-026 Rzeszów, ul. Księcia Józefa Poniatowski...</td>\n",
       "      <td>17 85 26 253</td>\n",
       "    </tr>\n",
       "    <tr>\n",
       "      <th>129</th>\n",
       "      <td>BIESZCZADZKIE POGOTOWIE RATUNKOWE SPZOZ W\\rSANOKU</td>\n",
       "      <td>38-500 Sanok,  ul. Jezierskiego 21</td>\n",
       "      <td>13 46 28 460</td>\n",
       "    </tr>\n",
       "    <tr>\n",
       "      <th>130</th>\n",
       "      <td>KLINICZNY SZPITAL WOJEWÓDZKI NR 2 IM. ŚW.JADWI...</td>\n",
       "      <td>35-301 Rzeszów, ul. Lwowska 60</td>\n",
       "      <td>17 86 64 000</td>\n",
       "    </tr>\n",
       "    <tr>\n",
       "      <th>131</th>\n",
       "      <td>Uniwersytecki Dziecięcy Szpital Kliniczny im. ...</td>\n",
       "      <td>BIAŁYSTOK 15-274, JERZEGO\\rWASZYNGTONA, 17</td>\n",
       "      <td>85 745 06 93</td>\n",
       "    </tr>\n",
       "    <tr>\n",
       "      <th>132</th>\n",
       "      <td>Podhalański Szpital Specjalistyczny</td>\n",
       "      <td>ul. Szpitalna 14, 34-400 Nowy Targ</td>\n",
       "      <td>18 263 30 01</td>\n",
       "    </tr>\n",
       "  </tbody>\n",
       "</table>\n",
       "<p>133 rows × 3 columns</p>\n",
       "</div>"
      ],
      "text/plain": [
       "index                                              nazwa  \\\n",
       "0       SZPITAL OGÓLNY IM. DR WITOLDA GINELA\\rW GRAJEWIE   \n",
       "1      SAMODZIELNY PUBLICZNY ZAKŁAD OPIEKI\\rZDROWOTNE...   \n",
       "2      SAMODZIELNY PUBLICZNY ZAKŁAD OPIEKI\\rZDROWOTNE...   \n",
       "3      SAMODZIELNY PUBLICZNY ZAKŁAD OPIEKI\\rZDROWOTNE...   \n",
       "4      SZPITAL WOJEWÓDZKI IM. DR. LUDWIKA\\rRYDYGIERA ...   \n",
       "..                                                   ...   \n",
       "128    WOJEWÓDZKA STACJA POGOTOWIA RATUNKOWEGO W\\rRZE...   \n",
       "129    BIESZCZADZKIE POGOTOWIE RATUNKOWE SPZOZ W\\rSANOKU   \n",
       "130    KLINICZNY SZPITAL WOJEWÓDZKI NR 2 IM. ŚW.JADWI...   \n",
       "131    Uniwersytecki Dziecięcy Szpital Kliniczny im. ...   \n",
       "132                  Podhalański Szpital Specjalistyczny   \n",
       "\n",
       "index                                              adres        telefon  \n",
       "0                  GRAJEWO 19-200, KONSTYTUCJI 3 MAJA 34  86 272 232 71  \n",
       "1                         AUGUSTÓW, 16-300, SZPITALNA 12   87 644 42 84  \n",
       "2               HAJNÓWKA, 17-200 DOC. ADAMA\\rDOWGIRDA, 9   85 682 92 02  \n",
       "3             BIELSK PODLASKI, 17-100, KLESZCZELOWSKA\\r1   85 833 43 30  \n",
       "4                         SUWAŁKI, 16-400, SZPITALNA, 60   87 562 94 21  \n",
       "..                                                   ...            ...  \n",
       "128    35-026 Rzeszów, ul. Księcia Józefa Poniatowski...   17 85 26 253  \n",
       "129                   38-500 Sanok,  ul. Jezierskiego 21   13 46 28 460  \n",
       "130                       35-301 Rzeszów, ul. Lwowska 60   17 86 64 000  \n",
       "131           BIAŁYSTOK 15-274, JERZEGO\\rWASZYNGTONA, 17   85 745 06 93  \n",
       "132                   ul. Szpitalna 14, 34-400 Nowy Targ   18 263 30 01  \n",
       "\n",
       "[133 rows x 3 columns]"
      ]
     },
     "execution_count": 78,
     "metadata": {},
     "output_type": "execute_result"
    }
   ],
   "source": [
    "df"
   ]
  },
  {
   "cell_type": "code",
   "execution_count": 81,
   "metadata": {},
   "outputs": [],
   "source": [
    "df.nazwa = df.nazwa.str.upper()"
   ]
  },
  {
   "cell_type": "code",
   "execution_count": 83,
   "metadata": {},
   "outputs": [],
   "source": [
    "df.adres = df.adres.str.upper()"
   ]
  },
  {
   "cell_type": "code",
   "execution_count": 86,
   "metadata": {},
   "outputs": [],
   "source": [
    "df.nazwa = df.nazwa.str.replace('\\r', ' ')"
   ]
  },
  {
   "cell_type": "code",
   "execution_count": 87,
   "metadata": {},
   "outputs": [],
   "source": [
    "df.adres = df.adres.str.replace('\\r', ' ')"
   ]
  },
  {
   "cell_type": "code",
   "execution_count": 93,
   "metadata": {},
   "outputs": [
    {
     "data": {
      "text/plain": [
       "True"
      ]
     },
     "execution_count": 93,
     "metadata": {},
     "output_type": "execute_result"
    }
   ],
   "source": [
    "df.isnull().values.any()"
   ]
  },
  {
   "cell_type": "code",
   "execution_count": 102,
   "metadata": {},
   "outputs": [
    {
     "data": {
      "text/html": [
       "<div>\n",
       "<style scoped>\n",
       "    .dataframe tbody tr th:only-of-type {\n",
       "        vertical-align: middle;\n",
       "    }\n",
       "\n",
       "    .dataframe tbody tr th {\n",
       "        vertical-align: top;\n",
       "    }\n",
       "\n",
       "    .dataframe thead th {\n",
       "        text-align: right;\n",
       "    }\n",
       "</style>\n",
       "<table border=\"1\" class=\"dataframe\">\n",
       "  <thead>\n",
       "    <tr style=\"text-align: right;\">\n",
       "      <th>index</th>\n",
       "      <th>nazwa</th>\n",
       "      <th>adres</th>\n",
       "      <th>telefon</th>\n",
       "    </tr>\n",
       "  </thead>\n",
       "  <tbody>\n",
       "    <tr>\n",
       "      <th>39</th>\n",
       "      <td>42 655 76 71</td>\n",
       "      <td>NaN</td>\n",
       "      <td>Zespół Transportu Sanitarnego</td>\n",
       "    </tr>\n",
       "  </tbody>\n",
       "</table>\n",
       "</div>"
      ],
      "text/plain": [
       "index         nazwa adres                        telefon\n",
       "39     42 655 76 71   NaN  Zespół Transportu Sanitarnego"
      ]
     },
     "execution_count": 102,
     "metadata": {},
     "output_type": "execute_result"
    }
   ],
   "source": [
    "df.loc[df.adres.isnull()==True]"
   ]
  },
  {
   "cell_type": "code",
   "execution_count": 98,
   "metadata": {},
   "outputs": [],
   "source": [
    "df.loc[122].adres = 'Żeromskiego 22, 39-300 Mielec'"
   ]
  },
  {
   "cell_type": "code",
   "execution_count": 99,
   "metadata": {},
   "outputs": [],
   "source": [
    "df.loc[122].telefon = '17 78 00 100'"
   ]
  },
  {
   "cell_type": "code",
   "execution_count": 101,
   "metadata": {},
   "outputs": [],
   "source": [
    "df.loc[49].adres = 'Sosnowiec 41-200 ul. Teatralna 9'\n",
    "df.loc[49].telefon = '32 363 60 32'"
   ]
  },
  {
   "cell_type": "code",
   "execution_count": 104,
   "metadata": {},
   "outputs": [],
   "source": [
    "df.to_csv('df.txt')"
   ]
  },
  {
   "cell_type": "code",
   "execution_count": null,
   "metadata": {},
   "outputs": [],
   "source": []
  }
 ],
 "metadata": {
  "kernelspec": {
   "display_name": "Python 3",
   "language": "python",
   "name": "python3"
  },
  "language_info": {
   "codemirror_mode": {
    "name": "ipython",
    "version": 3
   },
   "file_extension": ".py",
   "mimetype": "text/x-python",
   "name": "python",
   "nbconvert_exporter": "python",
   "pygments_lexer": "ipython3",
   "version": "3.6.9"
  }
 },
 "nbformat": 4,
 "nbformat_minor": 2
}
